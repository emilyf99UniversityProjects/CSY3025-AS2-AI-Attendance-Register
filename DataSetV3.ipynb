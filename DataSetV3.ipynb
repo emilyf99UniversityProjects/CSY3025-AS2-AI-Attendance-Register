{
  "cells": [
    {
      "cell_type": "markdown",
      "metadata": {
        "id": "d7tPnM5YE2KV"
      },
      "source": [
        "# File Header"
      ]
    },
    {
      "cell_type": "markdown",
      "metadata": {
        "id": "TQLTwbSDDHr3"
      },
      "source": [
        "**File Author**: Emily Fletcher\n",
        "\n",
        "**Student Number**: 18410839\n",
        "\n",
        "**File Purpose**: Passing a set of images into a Data Set, Aim is to train a model  \n",
        "              on recognition of the 5 people sampled.\n",
        "\n",
        "**Last Changed**: 17/05/2023\n",
        "\n",
        "**Last Model Download**: 17/05/2023\n",
        "\n",
        "**Version**: 3.0\n",
        "\n",
        "**Instructions**\n",
        "\n",
        "Ensure model is corrected to Google Drive with correct directories before proceeding through Stage 2 Onwards"
      ]
    },
    {
      "cell_type": "code",
      "source": [
        "# Key Imports\n",
        "import tensorflow as tf\n",
        "from tensorflow import keras\n",
        "from tensorflow.keras import layers, regularizers\n",
        "from tensorflow.keras.callbacks import ModelCheckpoint, EarlyStopping\n",
        "\n",
        "from google.colab import drive\n",
        "import os, shutil\n",
        "\n",
        "from tensorflow.keras.utils import image_dataset_from_directory\n",
        "\n",
        "import numpy as np\n",
        "import matplotlib.pyplot as plt\n"
      ],
      "metadata": {
        "id": "XuhO_wgWqxk3"
      },
      "execution_count": 2,
      "outputs": []
    },
    {
      "cell_type": "markdown",
      "metadata": {
        "id": "C3R9iGviAs3-"
      },
      "source": [
        "# Stage 1: Connecting to the Google Drive"
      ]
    },
    {
      "cell_type": "code",
      "execution_count": 3,
      "metadata": {
        "colab": {
          "base_uri": "https://localhost:8080/"
        },
        "id": "Xn8kWjOGSd-4",
        "outputId": "145898a3-bca3-43bc-fec2-d518838a77e3"
      },
      "outputs": [
        {
          "output_type": "stream",
          "name": "stdout",
          "text": [
            "Mounted at /content/drive\n",
            "True\n",
            "True\n",
            "True\n"
          ]
        }
      ],
      "source": [
        "# Force Remount to account for Google Drive Reload Errors\n",
        "drive.mount('/content/drive', force_remount=True)\n",
        "\n",
        "#Checking Path is valid \n",
        "print(os.path.exists('/content/drive/MyDrive/DataSetAIAssignment/training'))\n",
        "print(os.path.exists('/content/drive/MyDrive/DataSetAIAssignment/test'))\n",
        "print(os.path.exists('/content/drive/MyDrive/DataSetAIAssignment/validation'))"
      ]
    },
    {
      "cell_type": "code",
      "execution_count": 4,
      "metadata": {
        "id": "fAt-Y_l5Vpfo"
      },
      "outputs": [],
      "source": [
        "# Main File Path\n",
        "base_dir = '/content/drive/MyDrive/DataSetAIAssignment/'\n",
        "\n",
        "# Setting Parent Folders\n",
        "train_dir = os.path.join(base_dir, 'training')\n",
        "validation_dir = os.path.join(base_dir, 'validation')\n",
        "test_dir = os.path.join(base_dir, 'test')\n",
        "\n",
        "# Setting Train Folders For Users\n",
        "train_CB_dir = os.path.join(train_dir, 'CB') # CB\n",
        "train_EF_dir = os.path.join(train_dir, 'EF') # EF\n",
        "train_JS_dir = os.path.join(train_dir, 'JS') # JS\n",
        "train_MB_dir = os.path.join(train_dir, 'MB') # MB\n",
        "train_RK_dir = os.path.join(train_dir, 'RK') # RK\n",
        "\n",
        "# Setting Validation Folders For Users\n",
        "validation_CB_dir = os.path.join(validation_dir, 'CB') # CB\n",
        "validation_EF_dir = os.path.join(validation_dir, 'EF') # EF\n",
        "validation_JS_dir = os.path.join(validation_dir, 'JS') # JS\n",
        "validation_MB_dir = os.path.join(validation_dir, 'MB') # MB\n",
        "validation_RK_dir = os.path.join(validation_dir, 'RK') # RK\n",
        "\n",
        "# Setting Test Folders For Users\n",
        "test_CB_dir = os.path.join(test_dir, 'CB') # CB\n",
        "test_EF_dir = os.path.join(test_dir, 'EF') # EF\n",
        "test_JS_dir = os.path.join(test_dir, 'JS') # JS\n",
        "test_MB_dir = os.path.join(test_dir, 'MB') # MB\n",
        "test_RK_dir = os.path.join(test_dir, 'RK') # RK\n"
      ]
    },
    {
      "cell_type": "markdown",
      "metadata": {
        "id": "irYBumRHCN6N"
      },
      "source": [
        "# Section 2: First Pass Of Iterations\n",
        "\n",
        "*   Assigning Batch Size\n",
        "*   Setting Image Size\n",
        "*   Creating VGG16 Base\n",
        "\n",
        "\n",
        "\n",
        "\n"
      ]
    },
    {
      "cell_type": "code",
      "execution_count": 5,
      "metadata": {
        "colab": {
          "base_uri": "https://localhost:8080/"
        },
        "id": "hFjzCopgZn6J",
        "outputId": "29d09958-aa26-4a04-ec30-9283e71c90cf"
      },
      "outputs": [
        {
          "output_type": "stream",
          "name": "stdout",
          "text": [
            "Found 391 files belonging to 5 classes.\n",
            "Found 49 files belonging to 5 classes.\n",
            "Found 49 files belonging to 5 classes.\n"
          ]
        }
      ],
      "source": [
        "# Assigning Batches and Image Sizes \n",
        "# Image Sizes Allow For Size Consistency\n",
        "\n",
        "# Training Batches\n",
        "train_dataset = image_dataset_from_directory(\n",
        "    train_dir,\n",
        "    image_size=(180, 180),\n",
        "    batch_size=32)\n",
        "\n",
        "# Validation Batches\n",
        "validation_dataset = image_dataset_from_directory(\n",
        "    validation_dir,\n",
        "    image_size=(180, 180),\n",
        "    batch_size=32)\n",
        "\n",
        "# Testing Batches\n",
        "test_dataset = image_dataset_from_directory(\n",
        "    test_dir,\n",
        "    image_size=(180, 180),\n",
        "    batch_size=32)\n"
      ]
    },
    {
      "cell_type": "code",
      "execution_count": 6,
      "metadata": {
        "colab": {
          "base_uri": "https://localhost:8080/"
        },
        "id": "Kk_9yrME60sJ",
        "outputId": "3dc9e17d-1e4c-4f98-9906-48b59f05e1c3"
      },
      "outputs": [
        {
          "output_type": "stream",
          "name": "stdout",
          "text": [
            "Downloading data from https://storage.googleapis.com/tensorflow/keras-applications/vgg16/vgg16_weights_tf_dim_ordering_tf_kernels_notop.h5\n",
            "58889256/58889256 [==============================] - 4s 0us/step\n",
            "Model: \"vgg16\"\n",
            "_________________________________________________________________\n",
            " Layer (type)                Output Shape              Param #   \n",
            "=================================================================\n",
            " input_1 (InputLayer)        [(None, 180, 180, 3)]     0         \n",
            "                                                                 \n",
            " block1_conv1 (Conv2D)       (None, 180, 180, 64)      1792      \n",
            "                                                                 \n",
            " block1_conv2 (Conv2D)       (None, 180, 180, 64)      36928     \n",
            "                                                                 \n",
            " block1_pool (MaxPooling2D)  (None, 90, 90, 64)        0         \n",
            "                                                                 \n",
            " block2_conv1 (Conv2D)       (None, 90, 90, 128)       73856     \n",
            "                                                                 \n",
            " block2_conv2 (Conv2D)       (None, 90, 90, 128)       147584    \n",
            "                                                                 \n",
            " block2_pool (MaxPooling2D)  (None, 45, 45, 128)       0         \n",
            "                                                                 \n",
            " block3_conv1 (Conv2D)       (None, 45, 45, 256)       295168    \n",
            "                                                                 \n",
            " block3_conv2 (Conv2D)       (None, 45, 45, 256)       590080    \n",
            "                                                                 \n",
            " block3_conv3 (Conv2D)       (None, 45, 45, 256)       590080    \n",
            "                                                                 \n",
            " block3_pool (MaxPooling2D)  (None, 22, 22, 256)       0         \n",
            "                                                                 \n",
            " block4_conv1 (Conv2D)       (None, 22, 22, 512)       1180160   \n",
            "                                                                 \n",
            " block4_conv2 (Conv2D)       (None, 22, 22, 512)       2359808   \n",
            "                                                                 \n",
            " block4_conv3 (Conv2D)       (None, 22, 22, 512)       2359808   \n",
            "                                                                 \n",
            " block4_pool (MaxPooling2D)  (None, 11, 11, 512)       0         \n",
            "                                                                 \n",
            " block5_conv1 (Conv2D)       (None, 11, 11, 512)       2359808   \n",
            "                                                                 \n",
            " block5_conv2 (Conv2D)       (None, 11, 11, 512)       2359808   \n",
            "                                                                 \n",
            " block5_conv3 (Conv2D)       (None, 11, 11, 512)       2359808   \n",
            "                                                                 \n",
            " block5_pool (MaxPooling2D)  (None, 5, 5, 512)         0         \n",
            "                                                                 \n",
            "=================================================================\n",
            "Total params: 14,714,688\n",
            "Trainable params: 14,714,688\n",
            "Non-trainable params: 0\n",
            "_________________________________________________________________\n"
          ]
        }
      ],
      "source": [
        "# Creating of the VGG16 Pre-Trained Neural Network\n",
        "\n",
        "# Weights State The Image Set That Should Be Used\n",
        "# input_shape should match image size and type used in batches\n",
        "conv_base = keras.applications.vgg16.VGG16(\n",
        "    weights=\"imagenet\",\n",
        "    include_top=False,\n",
        "    input_shape=(180, 180, 3),\n",
        "    pooling=None\n",
        ")\n",
        "# Prints A Summary For The User, Allows Model Checks \n",
        "conv_base.summary()"
      ]
    },
    {
      "cell_type": "code",
      "execution_count": 7,
      "metadata": {
        "colab": {
          "base_uri": "https://localhost:8080/"
        },
        "id": "jhhjPWqKGgcz",
        "outputId": "0c693310-dbfb-41a7-9d31-af37807c6348"
      },
      "outputs": [
        {
          "output_type": "stream",
          "name": "stdout",
          "text": [
            "1/1 [==============================] - 10s 10s/step\n",
            "1/1 [==============================] - 0s 31ms/step\n",
            "1/1 [==============================] - 0s 24ms/step\n",
            "1/1 [==============================] - 0s 39ms/step\n",
            "1/1 [==============================] - 0s 28ms/step\n",
            "1/1 [==============================] - 0s 24ms/step\n",
            "1/1 [==============================] - 0s 27ms/step\n",
            "1/1 [==============================] - 0s 28ms/step\n",
            "1/1 [==============================] - 0s 28ms/step\n",
            "1/1 [==============================] - 0s 27ms/step\n",
            "1/1 [==============================] - 0s 28ms/step\n",
            "1/1 [==============================] - 0s 28ms/step\n",
            "1/1 [==============================] - 1s 1s/step\n",
            "1/1 [==============================] - 0s 28ms/step\n",
            "1/1 [==============================] - 2s 2s/step\n",
            "1/1 [==============================] - 0s 24ms/step\n",
            "1/1 [==============================] - 0s 24ms/step\n"
          ]
        }
      ],
      "source": [
        "# Assigning labels \n",
        "def get_features_and_labels(dataset):\n",
        "    all_features = []\n",
        "    all_labels = []\n",
        "    for images, labels in dataset:\n",
        "        preprocessed_images = keras.applications.vgg16.preprocess_input(images)\n",
        "        features = conv_base.predict(preprocessed_images)\n",
        "        all_features.append(features)\n",
        "        all_labels.append(labels)\n",
        "    return np.concatenate(all_features), np.concatenate(all_labels)\n",
        "\n",
        "#Applying All Labels And Features To Each DataSet\n",
        "train_features, train_labels =  get_features_and_labels(train_dataset)\n",
        "val_features, val_labels =  get_features_and_labels(validation_dataset)\n",
        "test_features, test_labels =  get_features_and_labels(test_dataset)"
      ]
    },
    {
      "cell_type": "code",
      "execution_count": 8,
      "metadata": {
        "colab": {
          "base_uri": "https://localhost:8080/"
        },
        "id": "p246SFwFHde7",
        "outputId": "81d2de46-1e90-452b-8891-90fed2f7d460"
      },
      "outputs": [
        {
          "output_type": "stream",
          "name": "stdout",
          "text": [
            "Epoch 1/30\n",
            "13/13 [==============================] - 5s 121ms/step - loss: 4.2642 - accuracy: 0.6266 - val_loss: 2.8572 - val_accuracy: 0.8980\n",
            "Epoch 2/30\n",
            "13/13 [==============================] - 0s 30ms/step - loss: 2.2556 - accuracy: 0.9412 - val_loss: 2.5087 - val_accuracy: 0.8980\n",
            "Epoch 3/30\n",
            "13/13 [==============================] - 0s 24ms/step - loss: 2.0717 - accuracy: 0.9616 - val_loss: 2.8020 - val_accuracy: 0.8776\n",
            "Epoch 4/30\n",
            "13/13 [==============================] - 0s 17ms/step - loss: 1.8378 - accuracy: 0.9923 - val_loss: 2.5809 - val_accuracy: 0.8980\n",
            "Epoch 5/30\n",
            "13/13 [==============================] - 0s 22ms/step - loss: 1.6513 - accuracy: 1.0000 - val_loss: 2.3399 - val_accuracy: 0.8980\n",
            "Epoch 6/30\n",
            "13/13 [==============================] - 0s 27ms/step - loss: 1.5095 - accuracy: 0.9770 - val_loss: 2.2057 - val_accuracy: 0.8776\n",
            "Epoch 7/30\n",
            "13/13 [==============================] - 0s 23ms/step - loss: 1.2672 - accuracy: 1.0000 - val_loss: 1.8624 - val_accuracy: 0.8980\n",
            "Epoch 8/30\n",
            "13/13 [==============================] - 0s 30ms/step - loss: 1.0682 - accuracy: 1.0000 - val_loss: 1.6749 - val_accuracy: 0.9184\n",
            "Epoch 9/30\n",
            "13/13 [==============================] - 0s 31ms/step - loss: 0.8596 - accuracy: 1.0000 - val_loss: 1.3232 - val_accuracy: 0.9184\n",
            "Epoch 10/30\n",
            "13/13 [==============================] - 0s 24ms/step - loss: 0.6578 - accuracy: 1.0000 - val_loss: 1.1934 - val_accuracy: 0.9184\n",
            "Epoch 11/30\n",
            "13/13 [==============================] - 0s 23ms/step - loss: 0.4752 - accuracy: 1.0000 - val_loss: 0.9270 - val_accuracy: 0.9184\n",
            "Epoch 12/30\n",
            "13/13 [==============================] - 0s 27ms/step - loss: 0.3254 - accuracy: 1.0000 - val_loss: 0.7509 - val_accuracy: 0.9184\n",
            "Epoch 13/30\n",
            "13/13 [==============================] - 0s 13ms/step - loss: 0.2333 - accuracy: 1.0000 - val_loss: 1.1719 - val_accuracy: 0.8776\n",
            "Epoch 14/30\n",
            "13/13 [==============================] - 0s 11ms/step - loss: 0.1966 - accuracy: 0.9923 - val_loss: 0.7703 - val_accuracy: 0.9184\n",
            "Epoch 15/30\n",
            "13/13 [==============================] - 0s 17ms/step - loss: 0.1553 - accuracy: 1.0000 - val_loss: 0.7565 - val_accuracy: 0.9184\n"
          ]
        }
      ],
      "source": [
        "# Applying Layers to the Model\n",
        "# Helps to Prevent OverFitting\n",
        "# Can Fine Tune By Adjusting Layers\n",
        "\n",
        "inputs = keras.Input(shape=(5, 5, 512))\n",
        "\n",
        "x = layers.Conv2D(32, kernel_size=(3, 3), activation='relu')(inputs)\n",
        "x = layers.MaxPooling2D(pool_size=(2, 2))(x)\n",
        "\n",
        "x = layers.Flatten()(x)\n",
        "x = layers.Dense(256, activation=\"relu\", kernel_regularizer=regularizers.l2(0.01))(x)\n",
        "x = layers.Dropout(0.2)(x)  \n",
        "x = layers.Dense(128, activation=\"relu\", kernel_regularizer=regularizers.l2(0.01))(x)  # Add an additional dense layer\n",
        "x = layers.Dropout(0.2)(x) \n",
        "\n",
        "outputs = layers.Dense(5, activation=\"softmax\")(x)\n",
        "model = keras.Model(inputs, outputs)\n",
        "model.compile(loss=\"sparse_categorical_crossentropy\",\n",
        "              optimizer=\"rmsprop\",\n",
        "              metrics=[\"accuracy\"])\n",
        "\n",
        "\n",
        "learning_rate = 0.001  # Ammend value to your change learning rate\n",
        "optimizer = keras.optimizers.RMSprop(learning_rate=learning_rate)\n",
        "\n",
        "\n",
        "# Define the EarlyStopping callback\n",
        "early_stopping = keras.callbacks.EarlyStopping(\n",
        "    monitor='val_loss',  # Metric to monitor\n",
        "    patience=3,           # Number of epochs with no improvement before stopping\n",
        "    restore_best_weights=True  # Restore the weights of the best epoch\n",
        ")\n",
        "\n",
        "# Fitting the Features And Labels From the VGG16 Model\n",
        "callbacks = [\n",
        "    keras.callbacks.ModelCheckpoint(\n",
        "        filepath=\"feature_extraction.keras\",\n",
        "        save_best_only=True,\n",
        "        monitor=\"val_loss\"),\n",
        "    early_stopping  # Add the early stopping callback\n",
        "]\n",
        "\n",
        "# Can Adjust epochs To Refine Model\n",
        "# 20 Chosen as visualisation graph levels out at around pass 15\n",
        "history = model.fit(\n",
        "    train_features, train_labels,\n",
        "    epochs=30,\n",
        "    validation_data=(val_features, val_labels),\n",
        "    callbacks=callbacks)"
      ]
    },
    {
      "cell_type": "code",
      "execution_count": 9,
      "metadata": {
        "colab": {
          "base_uri": "https://localhost:8080/",
          "height": 887
        },
        "id": "ETvZoUxkCTBy",
        "outputId": "85627926-fc82-47f5-dd07-498c981aa13e"
      },
      "outputs": [
        {
          "output_type": "display_data",
          "data": {
            "text/plain": [
              "<Figure size 640x480 with 1 Axes>"
            ],
            "image/png": "[encoded data removed]"
          },
          "metadata": {}
        },
        {
          "output_type": "display_data",
          "data": {
            "text/plain": [
              "<Figure size 640x480 with 1 Axes>"
            ],
            "image/png": "[encoded data removed]"
          },
          "metadata": {}
        }
      ],
      "source": [
        "# Generating Visualisation of the Passes\n",
        "# Allows assessment of training \n",
        "\n",
        "# Poor accuracy or high loss could indicate a need to adjust the layers, parameters or review the data samples\n",
        "acc = history.history[\"accuracy\"]\n",
        "val_acc = history.history[\"val_accuracy\"]\n",
        "loss = history.history[\"loss\"]\n",
        "val_loss = history.history[\"val_loss\"]\n",
        "epochs = range(1, len(acc) + 1)\n",
        "plt.plot(epochs, acc, \"bo\", label=\"Training accuracy\")\n",
        "plt.plot(epochs, val_acc, \"b\", label=\"Validation accuracy\")\n",
        "plt.title(\"Training and validation accuracy\")\n",
        "plt.legend()\n",
        "plt.figure()\n",
        "plt.plot(epochs, loss, \"bo\", label=\"Training loss\")\n",
        "plt.plot(epochs, val_loss, \"b\", label=\"Validation loss\")\n",
        "plt.title(\"Training and validation loss\")\n",
        "plt.legend()\n",
        "plt.show()"
      ]
    },
    {
      "cell_type": "markdown",
      "metadata": {
        "id": "UQ_uWrnS-ZAA"
      },
      "source": [
        "# Section 3: Further Refinement and Second Set of Iterations\n",
        "\n",
        "*   Freezing the Base VGG16 Model\n",
        "*   Adding Image Transformation (Augmentation)\n",
        "\n"
      ]
    },
    {
      "cell_type": "code",
      "execution_count": 10,
      "metadata": {
        "id": "uHIdsDFMHlEj"
      },
      "outputs": [],
      "source": [
        "# Re-initialising the VGG16 Model \n",
        "# This time bases are frozen, prevents overwriting of previous work\n",
        "\n",
        "conv_base  = keras.applications.vgg16.VGG16(\n",
        "    weights=\"imagenet\",\n",
        "    include_top=False)\n",
        "conv_base.trainable = False"
      ]
    },
    {
      "cell_type": "code",
      "execution_count": 12,
      "metadata": {
        "colab": {
          "base_uri": "https://localhost:8080/"
        },
        "id": "QACgTMcTHqTL",
        "outputId": "80ee860a-1d2e-4a9c-f187-eb8257002e71"
      },
      "outputs": [
        {
          "output_type": "stream",
          "name": "stdout",
          "text": [
            "This is the number of trainable weights before freezing the conv base: 26\n",
            "This is the number of trainable weights after freezing the conv base: 0\n"
          ]
        }
      ],
      "source": [
        "# THis shows to the author the effect of the freezing \n",
        "# If values are the same then the model has not be frozen and should be reviewed before continuing\n",
        "conv_base.trainable = True\n",
        "print(\"This is the number of trainable weights \"\n",
        "      \"before freezing the conv base:\", len(conv_base.trainable_weights))\n",
        "\n",
        "conv_base.trainable = False\n",
        "print(\"This is the number of trainable weights \"\n",
        "      \"after freezing the conv base:\", len(conv_base.trainable_weights))"
      ]
    },
    {
      "cell_type": "code",
      "execution_count": 13,
      "metadata": {
        "id": "lp8kri_RCTBz"
      },
      "outputs": [],
      "source": [
        "# Applying image transformations \n",
        "\n",
        "# Allows to artifically grow the dataset\n",
        "# Applying image transformations \n",
        "# Allows to artifically grow the dataset\n",
        "# Can adjust results by changing types of transformations and parameters\n",
        "data_augmentation = keras.Sequential(\n",
        "    [\n",
        "        layers.RandomFlip(\"horizontal\"),\n",
        "        layers.RandomRotation(0.1),\n",
        "        layers.RandomZoom(0.2),\n",
        "    ]\n",
        ")\n",
        "\n",
        "# Adding layers\n",
        "# Can add more layers if needed to fine tune\n",
        "# Same as previous method\n",
        "inputs = keras.Input(shape=(180, 180, 3))\n",
        "x = data_augmentation(inputs)\n",
        "x = keras.applications.vgg16.preprocess_input(x)\n",
        "x = conv_base(x)\n",
        "\n",
        "x = layers.Conv2D(64, kernel_size=(3, 3), activation='relu')(inputs)\n",
        "x = layers.MaxPooling2D(pool_size=(2, 2))(x)\n",
        "\n",
        "x = layers.Flatten()(x)\n",
        "x = layers.Dense(256, activation=\"relu\", kernel_regularizer=regularizers.l2(0.01))(x)\n",
        "x = layers.Dropout(0.2)(x)  \n",
        "x = layers.Dense(128, activation=\"relu\", kernel_regularizer=regularizers.l2(0.01))(x)  # Add an additional dense layer\n",
        "x = layers.Dropout(0.2)(x) \n",
        "outputs = layers.Dense(5, activation=\"softmax\")(x)\n",
        "model = keras.Model(inputs, outputs)\n",
        "model.compile(loss=\"sparse_categorical_crossentropy\",\n",
        "              optimizer=\"rmsprop\",\n",
        "              metrics=[\"accuracy\"])\n",
        "\n",
        "\n",
        "learning_rate = 0.001  # Ammend value to your change learning rate\n",
        "optimizer = keras.optimizers.RMSprop(learning_rate=learning_rate)\n"
      ]
    },
    {
      "cell_type": "code",
      "execution_count": 14,
      "metadata": {
        "colab": {
          "base_uri": "https://localhost:8080/"
        },
        "id": "ZMpGk0dAHzo7",
        "outputId": "4ab03c82-317b-400d-d419-a3264a9389ed"
      },
      "outputs": [
        {
          "output_type": "stream",
          "name": "stdout",
          "text": [
            "Model: \"model_1\"\n",
            "_________________________________________________________________\n",
            " Layer (type)                Output Shape              Param #   \n",
            "=================================================================\n",
            " input_4 (InputLayer)        [(None, 180, 180, 3)]     0         \n",
            "                                                                 \n",
            " conv2d_1 (Conv2D)           (None, 178, 178, 64)      1792      \n",
            "                                                                 \n",
            " max_pooling2d_1 (MaxPooling  (None, 89, 89, 64)       0         \n",
            " 2D)                                                             \n",
            "                                                                 \n",
            " flatten_1 (Flatten)         (None, 506944)            0         \n",
            "                                                                 \n",
            " dense_3 (Dense)             (None, 256)               129777920 \n",
            "                                                                 \n",
            " dropout_2 (Dropout)         (None, 256)               0         \n",
            "                                                                 \n",
            " dense_4 (Dense)             (None, 128)               32896     \n",
            "                                                                 \n",
            " dropout_3 (Dropout)         (None, 128)               0         \n",
            "                                                                 \n",
            " dense_5 (Dense)             (None, 5)                 645       \n",
            "                                                                 \n",
            "=================================================================\n",
            "Total params: 129,813,253\n",
            "Trainable params: 129,813,253\n",
            "Non-trainable params: 0\n",
            "_________________________________________________________________\n"
          ]
        }
      ],
      "source": [
        "# Prints a model summary, allows for user to check accuracy \n",
        "model.summary()"
      ]
    },
    {
      "cell_type": "code",
      "execution_count": 15,
      "metadata": {
        "colab": {
          "base_uri": "https://localhost:8080/"
        },
        "id": "99DAyM-rH4cL",
        "outputId": "fb27fa0f-6015-49b4-fc34-b0f50fbaef0c"
      },
      "outputs": [
        {
          "output_type": "stream",
          "name": "stdout",
          "text": [
            "Epoch 1/45\n",
            "13/13 [==============================] - 26s 1s/step - loss: 7317.7949 - accuracy: 0.2685 - val_loss: 414.5379 - val_accuracy: 0.5510\n",
            "Epoch 2/45\n",
            "13/13 [==============================] - 27s 1s/step - loss: 243.6195 - accuracy: 0.6496 - val_loss: 122.0941 - val_accuracy: 0.7755\n",
            "Epoch 3/45\n",
            "13/13 [==============================] - 22s 930ms/step - loss: 72.4416 - accuracy: 0.8389 - val_loss: 88.8104 - val_accuracy: 0.8367\n",
            "Epoch 4/45\n",
            "13/13 [==============================] - 15s 482ms/step - loss: 44.8757 - accuracy: 0.8824 - val_loss: 93.8306 - val_accuracy: 0.7755\n",
            "Epoch 5/45\n",
            "13/13 [==============================] - 16s 416ms/step - loss: 23.0027 - accuracy: 0.9284 - val_loss: 90.0812 - val_accuracy: 0.7959\n",
            "Epoch 6/45\n",
            "13/13 [==============================] - 15s 449ms/step - loss: 20.9655 - accuracy: 0.9514 - val_loss: 100.5568 - val_accuracy: 0.8163\n"
          ]
        }
      ],
      "source": [
        "# Fitting the Features And Labels From the VGG16 Model\n",
        "callbacks = [\n",
        "    keras.callbacks.ModelCheckpoint(\n",
        "        filepath=\"feature_extraction_with_data_augmentation.keras\",\n",
        "        save_best_only=True,\n",
        "        monitor=\"val_loss\"\n",
        "    ),\n",
        "    EarlyStopping(\n",
        "        monitor=\"val_loss\",\n",
        "        patience=3,  # Number of epochs with no improvement after which training will be stopped\n",
        "        restore_best_weights=True\n",
        "    )\n",
        "]\n",
        "\n",
        "# Can Adjust epochs To Refine Model\n",
        "# 20 Chosen as visualisation graph levels out at around pass 15\n",
        "history = model.fit(\n",
        "    train_dataset,\n",
        "    epochs=45,\n",
        "    validation_data=validation_dataset,\n",
        "    callbacks=callbacks)\n",
        "\n"
      ]
    },
    {
      "cell_type": "code",
      "execution_count": 16,
      "metadata": {
        "colab": {
          "base_uri": "https://localhost:8080/",
          "height": 887
        },
        "id": "sVz_r4G_H79L",
        "outputId": "3ed90aee-2e70-4c38-81bf-1aa431516ea8"
      },
      "outputs": [
        {
          "output_type": "display_data",
          "data": {
            "text/plain": [
              "<Figure size 640x480 with 1 Axes>"
            ],
            "image/png": "[encoded data removed]"
          },
          "metadata": {}
        },
        {
          "output_type": "display_data",
          "data": {
            "text/plain": [
              "<Figure size 640x480 with 1 Axes>"
            ],
            "image/png": "[encoded data removed]"
          },
          "metadata": {}
        }
      ],
      "source": [
        "# Generating Visualisation of the Passes\n",
        "# Allows assessment of training \n",
        "\n",
        "# Poor accuracy or high loss could indicate a need to adjust the layers, parameters or review the data samples\n",
        "\n",
        "import matplotlib.pyplot as plt\n",
        "acc = history.history[\"accuracy\"]\n",
        "val_acc = history.history[\"val_accuracy\"]\n",
        "loss = history.history[\"loss\"]\n",
        "val_loss = history.history[\"val_loss\"]\n",
        "epochs = range(1, len(acc) + 1)\n",
        "plt.plot(epochs, acc, \"bo\", label=\"Training accuracy\")\n",
        "plt.plot(epochs, val_acc, \"b\", label=\"Validation accuracy\")\n",
        "plt.title(\"Training and validation accuracy\")\n",
        "plt.legend()\n",
        "plt.figure()\n",
        "plt.plot(epochs, loss, \"bo\", label=\"Training loss\")\n",
        "plt.plot(epochs, val_loss, \"b\", label=\"Validation loss\")\n",
        "plt.title(\"Training and validation loss\")\n",
        "plt.legend()\n",
        "plt.show()"
      ]
    },
    {
      "cell_type": "code",
      "execution_count": 17,
      "metadata": {
        "colab": {
          "base_uri": "https://localhost:8080/"
        },
        "id": "niDuFivXH8pL",
        "outputId": "eafc28b6-92c0-4cb1-e173-6bc7c69a3c6b"
      },
      "outputs": [
        {
          "output_type": "stream",
          "name": "stdout",
          "text": [
            "2/2 [==============================] - 2s 20ms/step - loss: 94.7701 - accuracy: 0.8163\n",
            "Test accuracy: 0.816\n"
          ]
        }
      ],
      "source": [
        "# Finding the accuracy of the current model\n",
        "\n",
        "test_model = keras.models.load_model(\n",
        "    \"feature_extraction_with_data_augmentation.keras\")\n",
        "test_loss, test_acc = test_model.evaluate(test_dataset)\n",
        "print(f\"Test accuracy: {test_acc:.3f}\")"
      ]
    },
    {
      "cell_type": "markdown",
      "source": [
        "# Section 4: Final Interations and Fine Tuning\n",
        "\n",
        "\n",
        "*   Un-Freezing Layers\n",
        "*   Freezing Last Four Layers\n",
        "\n"
      ],
      "metadata": {
        "id": "hjr6FhcN7mme"
      }
    },
    {
      "cell_type": "code",
      "execution_count": 18,
      "metadata": {
        "id": "mE3SE7XUH_tr"
      },
      "outputs": [],
      "source": [
        "# Setting to true unfreezes all the previous frozen layers\n",
        "# Removes the last four layers from being trainable\n",
        "# Allows training for general features without removing all progress so far\n",
        "\n",
        "conv_base.trainable = True\n",
        "for layer in conv_base.layers[:-4]:\n",
        "    layer.trainable = False"
      ]
    },
    {
      "cell_type": "code",
      "execution_count": 19,
      "metadata": {
        "colab": {
          "base_uri": "https://localhost:8080/"
        },
        "id": "KgA1ZierPq33",
        "outputId": "dc143231-eb87-49a6-dd5c-5b591bd5a106"
      },
      "outputs": [
        {
          "output_type": "stream",
          "name": "stdout",
          "text": [
            "Model: \"vgg16\"\n",
            "_________________________________________________________________\n",
            " Layer (type)                Output Shape              Param #   \n",
            "=================================================================\n",
            " input_3 (InputLayer)        [(None, None, None, 3)]   0         \n",
            "                                                                 \n",
            " block1_conv1 (Conv2D)       (None, None, None, 64)    1792      \n",
            "                                                                 \n",
            " block1_conv2 (Conv2D)       (None, None, None, 64)    36928     \n",
            "                                                                 \n",
            " block1_pool (MaxPooling2D)  (None, None, None, 64)    0         \n",
            "                                                                 \n",
            " block2_conv1 (Conv2D)       (None, None, None, 128)   73856     \n",
            "                                                                 \n",
            " block2_conv2 (Conv2D)       (None, None, None, 128)   147584    \n",
            "                                                                 \n",
            " block2_pool (MaxPooling2D)  (None, None, None, 128)   0         \n",
            "                                                                 \n",
            " block3_conv1 (Conv2D)       (None, None, None, 256)   295168    \n",
            "                                                                 \n",
            " block3_conv2 (Conv2D)       (None, None, None, 256)   590080    \n",
            "                                                                 \n",
            " block3_conv3 (Conv2D)       (None, None, None, 256)   590080    \n",
            "                                                                 \n",
            " block3_pool (MaxPooling2D)  (None, None, None, 256)   0         \n",
            "                                                                 \n",
            " block4_conv1 (Conv2D)       (None, None, None, 512)   1180160   \n",
            "                                                                 \n",
            " block4_conv2 (Conv2D)       (None, None, None, 512)   2359808   \n",
            "                                                                 \n",
            " block4_conv3 (Conv2D)       (None, None, None, 512)   2359808   \n",
            "                                                                 \n",
            " block4_pool (MaxPooling2D)  (None, None, None, 512)   0         \n",
            "                                                                 \n",
            " block5_conv1 (Conv2D)       (None, None, None, 512)   2359808   \n",
            "                                                                 \n",
            " block5_conv2 (Conv2D)       (None, None, None, 512)   2359808   \n",
            "                                                                 \n",
            " block5_conv3 (Conv2D)       (None, None, None, 512)   2359808   \n",
            "                                                                 \n",
            " block5_pool (MaxPooling2D)  (None, None, None, 512)   0         \n",
            "                                                                 \n",
            "=================================================================\n",
            "Total params: 14,714,688\n",
            "Trainable params: 7,079,424\n",
            "Non-trainable params: 7,635,264\n",
            "_________________________________________________________________\n"
          ]
        }
      ],
      "source": [
        "# Building a summary of the current model\n",
        "conv_base.summary()"
      ]
    },
    {
      "cell_type": "code",
      "execution_count": 21,
      "metadata": {
        "colab": {
          "base_uri": "https://localhost:8080/"
        },
        "id": "IXoht-waIHTr",
        "outputId": "2bb22f8c-0231-4c40-9a93-6802d4b5c4f8"
      },
      "outputs": [
        {
          "output_type": "stream",
          "name": "stdout",
          "text": [
            "Epoch 1/45\n",
            "13/13 [==============================] - 28s 1s/step - loss: 38.1866 - accuracy: 0.9054 - val_loss: 71.3226 - val_accuracy: 0.8776\n",
            "Epoch 2/45\n",
            "13/13 [==============================] - 16s 665ms/step - loss: 35.5194 - accuracy: 0.9105 - val_loss: 71.5526 - val_accuracy: 0.8571\n",
            "Epoch 3/45\n",
            "13/13 [==============================] - 27s 1s/step - loss: 29.5655 - accuracy: 0.9156 - val_loss: 71.0774 - val_accuracy: 0.8571\n",
            "Epoch 4/45\n",
            "13/13 [==============================] - 32s 2s/step - loss: 32.5189 - accuracy: 0.9156 - val_loss: 70.6828 - val_accuracy: 0.8571\n",
            "Epoch 5/45\n",
            "13/13 [==============================] - 23s 972ms/step - loss: 30.8117 - accuracy: 0.9156 - val_loss: 70.1144 - val_accuracy: 0.8571\n",
            "Epoch 6/45\n",
            "13/13 [==============================] - 15s 414ms/step - loss: 38.1601 - accuracy: 0.9284 - val_loss: 71.1206 - val_accuracy: 0.8571\n",
            "Epoch 7/45\n",
            "13/13 [==============================] - 16s 517ms/step - loss: 30.8840 - accuracy: 0.9361 - val_loss: 71.1198 - val_accuracy: 0.8367\n",
            "Epoch 8/45\n",
            "13/13 [==============================] - 15s 514ms/step - loss: 28.5932 - accuracy: 0.9412 - val_loss: 71.4777 - val_accuracy: 0.8367\n",
            "Epoch 9/45\n",
            "13/13 [==============================] - 15s 525ms/step - loss: 28.3772 - accuracy: 0.9386 - val_loss: 70.4953 - val_accuracy: 0.8571\n",
            "Epoch 10/45\n",
            "13/13 [==============================] - 15s 440ms/step - loss: 24.3421 - accuracy: 0.9361 - val_loss: 70.7649 - val_accuracy: 0.8571\n",
            "Epoch 11/45\n",
            "13/13 [==============================] - 22s 1s/step - loss: 26.5092 - accuracy: 0.9361 - val_loss: 68.5090 - val_accuracy: 0.8776\n",
            "Epoch 12/45\n",
            "13/13 [==============================] - 27s 1s/step - loss: 21.2793 - accuracy: 0.9540 - val_loss: 68.4005 - val_accuracy: 0.8571\n",
            "Epoch 13/45\n",
            "13/13 [==============================] - 15s 442ms/step - loss: 21.3793 - accuracy: 0.9463 - val_loss: 68.8723 - val_accuracy: 0.8571\n",
            "Epoch 14/45\n",
            "13/13 [==============================] - 22s 1s/step - loss: 24.2841 - accuracy: 0.9386 - val_loss: 67.5925 - val_accuracy: 0.8776\n",
            "Epoch 15/45\n",
            "13/13 [==============================] - 23s 1s/step - loss: 21.1040 - accuracy: 0.9463 - val_loss: 66.9990 - val_accuracy: 0.8776\n",
            "Epoch 16/45\n",
            "13/13 [==============================] - 22s 1s/step - loss: 18.5125 - accuracy: 0.9591 - val_loss: 66.8158 - val_accuracy: 0.8776\n",
            "Epoch 17/45\n",
            "13/13 [==============================] - 23s 1s/step - loss: 25.6305 - accuracy: 0.9437 - val_loss: 66.1052 - val_accuracy: 0.8776\n",
            "Epoch 18/45\n",
            "13/13 [==============================] - 22s 1s/step - loss: 20.0956 - accuracy: 0.9668 - val_loss: 65.2135 - val_accuracy: 0.8776\n",
            "Epoch 19/45\n",
            "13/13 [==============================] - 27s 1s/step - loss: 18.6035 - accuracy: 0.9565 - val_loss: 64.8171 - val_accuracy: 0.8776\n",
            "Epoch 20/45\n",
            "13/13 [==============================] - 15s 536ms/step - loss: 21.3188 - accuracy: 0.9514 - val_loss: 64.9510 - val_accuracy: 0.8776\n",
            "Epoch 21/45\n",
            "13/13 [==============================] - 32s 2s/step - loss: 18.9558 - accuracy: 0.9540 - val_loss: 63.6358 - val_accuracy: 0.8776\n",
            "Epoch 22/45\n",
            "13/13 [==============================] - 22s 1s/step - loss: 19.3032 - accuracy: 0.9668 - val_loss: 63.2162 - val_accuracy: 0.8776\n",
            "Epoch 23/45\n",
            "13/13 [==============================] - 15s 414ms/step - loss: 19.4839 - accuracy: 0.9540 - val_loss: 63.8771 - val_accuracy: 0.8776\n",
            "Epoch 24/45\n",
            "13/13 [==============================] - 15s 426ms/step - loss: 18.5335 - accuracy: 0.9642 - val_loss: 63.5037 - val_accuracy: 0.8776\n",
            "Epoch 25/45\n",
            "13/13 [==============================] - 16s 508ms/step - loss: 19.5950 - accuracy: 0.9719 - val_loss: 63.6408 - val_accuracy: 0.8776\n",
            "Epoch 26/45\n",
            "13/13 [==============================] - 23s 1s/step - loss: 18.1123 - accuracy: 0.9668 - val_loss: 62.7228 - val_accuracy: 0.8776\n",
            "Epoch 27/45\n",
            "13/13 [==============================] - 26s 1s/step - loss: 17.1862 - accuracy: 0.9642 - val_loss: 62.0444 - val_accuracy: 0.8571\n",
            "Epoch 28/45\n",
            "13/13 [==============================] - 22s 1s/step - loss: 16.0922 - accuracy: 0.9795 - val_loss: 61.6477 - val_accuracy: 0.8571\n",
            "Epoch 29/45\n",
            "13/13 [==============================] - 17s 411ms/step - loss: 17.1407 - accuracy: 0.9719 - val_loss: 61.7650 - val_accuracy: 0.8571\n",
            "Epoch 30/45\n",
            "13/13 [==============================] - 24s 1s/step - loss: 16.6886 - accuracy: 0.9719 - val_loss: 61.3831 - val_accuracy: 0.8571\n",
            "Epoch 31/45\n",
            "13/13 [==============================] - 16s 623ms/step - loss: 18.6058 - accuracy: 0.9616 - val_loss: 62.0729 - val_accuracy: 0.8571\n",
            "Epoch 32/45\n",
            "13/13 [==============================] - 15s 409ms/step - loss: 15.6691 - accuracy: 0.9668 - val_loss: 61.7791 - val_accuracy: 0.8571\n",
            "Epoch 33/45\n",
            "13/13 [==============================] - 23s 1s/step - loss: 16.4609 - accuracy: 0.9719 - val_loss: 61.3431 - val_accuracy: 0.8571\n",
            "Epoch 34/45\n",
            "13/13 [==============================] - 15s 415ms/step - loss: 15.1574 - accuracy: 0.9719 - val_loss: 61.5568 - val_accuracy: 0.8571\n",
            "Epoch 35/45\n",
            "13/13 [==============================] - 21s 959ms/step - loss: 14.5623 - accuracy: 0.9770 - val_loss: 60.8036 - val_accuracy: 0.8571\n",
            "Epoch 36/45\n",
            "13/13 [==============================] - 27s 1s/step - loss: 15.8503 - accuracy: 0.9719 - val_loss: 59.8982 - val_accuracy: 0.8571\n",
            "Epoch 37/45\n",
            "13/13 [==============================] - 27s 1s/step - loss: 14.5542 - accuracy: 0.9795 - val_loss: 59.8180 - val_accuracy: 0.8776\n",
            "Epoch 38/45\n",
            "13/13 [==============================] - 23s 1s/step - loss: 14.9727 - accuracy: 0.9693 - val_loss: 59.6922 - val_accuracy: 0.8571\n",
            "Epoch 39/45\n",
            "13/13 [==============================] - 22s 1s/step - loss: 16.5767 - accuracy: 0.9591 - val_loss: 59.2496 - val_accuracy: 0.8776\n",
            "Epoch 40/45\n",
            "13/13 [==============================] - 15s 483ms/step - loss: 14.2222 - accuracy: 0.9770 - val_loss: 59.2556 - val_accuracy: 0.8776\n",
            "Epoch 41/45\n",
            "13/13 [==============================] - 23s 1s/step - loss: 18.2572 - accuracy: 0.9642 - val_loss: 58.9691 - val_accuracy: 0.8776\n",
            "Epoch 42/45\n",
            "13/13 [==============================] - 27s 1s/step - loss: 15.7368 - accuracy: 0.9744 - val_loss: 58.6241 - val_accuracy: 0.8776\n",
            "Epoch 43/45\n",
            "13/13 [==============================] - 22s 999ms/step - loss: 14.2059 - accuracy: 0.9821 - val_loss: 58.2161 - val_accuracy: 0.8776\n",
            "Epoch 44/45\n",
            "13/13 [==============================] - 32s 2s/step - loss: 13.4823 - accuracy: 0.9821 - val_loss: 58.1932 - val_accuracy: 0.8367\n",
            "Epoch 45/45\n",
            "13/13 [==============================] - 23s 1s/step - loss: 13.3826 - accuracy: 0.9744 - val_loss: 57.6151 - val_accuracy: 0.8571\n"
          ]
        }
      ],
      "source": [
        "# Compiling the final model before running the fitting process\n",
        "# Can adjust the custom learning rate to fine tweak model\n",
        "# Can adjust the epochs to fine tune the model\n",
        "\n",
        "model.compile(loss=\"sparse_categorical_crossentropy\",\n",
        "              optimizer=keras.optimizers.RMSprop(learning_rate=1e-5),\n",
        "              metrics=[\"accuracy\"])\n",
        "\n",
        "callbacks = [\n",
        "    keras.callbacks.ModelCheckpoint(\n",
        "        filepath=\"fine_tuning.keras\",\n",
        "        save_best_only=True,\n",
        "        monitor=\"val_loss\"\n",
        "    ),\n",
        "    EarlyStopping(\n",
        "        monitor=\"val_loss\",\n",
        "        patience=8,  # Number of epochs with no improvement after which training will be stopped\n",
        "        restore_best_weights=True\n",
        "    )\n",
        "]\n",
        "\n",
        "# Can Adjust epochs To Refine Model\n",
        "# 20 Chosen as visualisation graph levels out at around pass 15\n",
        "history = model.fit(\n",
        "    train_dataset,\n",
        "    epochs=45,\n",
        "    validation_data=validation_dataset,\n",
        "    callbacks=callbacks)\n",
        "\n"
      ]
    },
    {
      "cell_type": "code",
      "execution_count": 22,
      "metadata": {
        "colab": {
          "base_uri": "https://localhost:8080/",
          "height": 887
        },
        "id": "GVXZbbnHIHvT",
        "outputId": "c3ce6f34-7d60-42dd-e99f-ac962b8952b8"
      },
      "outputs": [
        {
          "output_type": "display_data",
          "data": {
            "text/plain": [
              "<Figure size 640x480 with 1 Axes>"
            ],
            "image/png": "[encoded data removed]"
          },
          "metadata": {}
        },
        {
          "output_type": "display_data",
          "data": {
            "text/plain": [
              "<Figure size 640x480 with 1 Axes>"
            ],
            "image/png": "[encoded data removed]"
          },
          "metadata": {}
        }
      ],
      "source": [
        "# Generating Visualisation of the Passes\n",
        "# Allows assessment of training \n",
        "\n",
        "# Poor accuracy or high loss could indicate a need to adjust the layers, parameters or review the data samples\n",
        "import matplotlib.pyplot as plt\n",
        "acc = history.history[\"accuracy\"]\n",
        "val_acc = history.history[\"val_accuracy\"]\n",
        "loss = history.history[\"loss\"]\n",
        "val_loss = history.history[\"val_loss\"]\n",
        "epochs = range(1, len(acc) + 1)\n",
        "plt.plot(epochs, acc, \"bo\", label=\"Training accuracy\")\n",
        "plt.plot(epochs, val_acc, \"b\", label=\"Validation accuracy\")\n",
        "plt.title(\"Training and validation accuracy\")\n",
        "plt.legend()\n",
        "plt.figure()\n",
        "plt.plot(epochs, loss, \"bo\", label=\"Training loss\")\n",
        "plt.plot(epochs, val_loss, \"b\", label=\"Validation loss\")\n",
        "plt.title(\"Training and validation loss\")\n",
        "plt.legend()\n",
        "plt.show()"
      ]
    },
    {
      "cell_type": "code",
      "execution_count": 23,
      "metadata": {
        "colab": {
          "base_uri": "https://localhost:8080/"
        },
        "id": "qwI2w9L3IJty",
        "outputId": "5f02ce54-d966-4414-ece6-7df5d09a49a6"
      },
      "outputs": [
        {
          "output_type": "stream",
          "name": "stdout",
          "text": [
            "2/2 [==============================] - 2s 19ms/step - loss: 67.9327 - accuracy: 0.8367\n",
            "Test accuracy: 0.837\n"
          ]
        }
      ],
      "source": [
        "# Final accuracy assessment fo total model\n",
        "\n",
        "model = keras.models.load_model(\"fine_tuning.keras\")\n",
        "test_loss, test_acc = model.evaluate(test_dataset)\n",
        "print(f\"Test accuracy: {test_acc:.3f}\")"
      ]
    },
    {
      "cell_type": "markdown",
      "source": [
        "# Section 5: Downloading the Data Set"
      ],
      "metadata": {
        "id": "FDRo6_wfON7e"
      }
    },
    {
      "cell_type": "code",
      "source": [
        "# Comment Out When Not Using\n",
        "\n",
        "from google.colab import drive\n",
        "from google.colab import files\n",
        "\n",
        "model.save('/content/model.h5')\n",
        "\n",
        "#feature_extraction = '/content/feature_extraction.keras'\n",
        "#feature_extraction_with_data_aug = '/content/feature_extraction_with_data_augmentation.keras'\n",
        "#fine_tuning = '/content/fine_tuning.keras'\n",
        "\n",
        "#files.download(feature_extraction)\n",
        "#files.download(feature_extraction_with_data_aug)\n",
        "#files.download(fine_tuning)\n",
        "files.download('/content/model.h5')"
      ],
      "metadata": {
        "colab": {
          "base_uri": "https://localhost:8080/",
          "height": 34
        },
        "id": "RaPYgo0ROokF",
        "outputId": "b11160b2-7c30-44f5-fe50-957c774624a2"
      },
      "execution_count": null,
      "outputs": [
        {
          "output_type": "display_data",
          "data": {
            "text/plain": [
              "<IPython.core.display.Javascript object>"
            ],
            "application/javascript": [
              "\n",
              "    async function download(id, filename, size) {\n",
              "      if (!google.colab.kernel.accessAllowed) {\n",
              "        return;\n",
              "      }\n",
              "      const div = document.createElement('div');\n",
              "      const label = document.createElement('label');\n",
              "      label.textContent = `Downloading \"${filename}\": `;\n",
              "      div.appendChild(label);\n",
              "      const progress = document.createElement('progress');\n",
              "      progress.max = size;\n",
              "      div.appendChild(progress);\n",
              "      document.body.appendChild(div);\n",
              "\n",
              "      const buffers = [];\n",
              "      let downloaded = 0;\n",
              "\n",
              "      const channel = await google.colab.kernel.comms.open(id);\n",
              "      // Send a message to notify the kernel that we're ready.\n",
              "      channel.send({})\n",
              "\n",
              "      for await (const message of channel.messages) {\n",
              "        // Send a message to notify the kernel that we're ready.\n",
              "        channel.send({})\n",
              "        if (message.buffers) {\n",
              "          for (const buffer of message.buffers) {\n",
              "            buffers.push(buffer);\n",
              "            downloaded += buffer.byteLength;\n",
              "            progress.value = downloaded;\n",
              "          }\n",
              "        }\n",
              "      }\n",
              "      const blob = new Blob(buffers, {type: 'application/binary'});\n",
              "      const a = document.createElement('a');\n",
              "      a.href = window.URL.createObjectURL(blob);\n",
              "      a.download = filename;\n",
              "      div.appendChild(a);\n",
              "      a.click();\n",
              "      div.remove();\n",
              "    }\n",
              "  "
            ]
          },
          "metadata": {}
        },
        {
          "output_type": "display_data",
          "data": {
            "text/plain": [
              "<IPython.core.display.Javascript object>"
            ],
            "application/javascript": [
              "download(\"download_78b5bebe-f16b-4ec8-9a32-9b08a45e34f9\", \"model.h5\", 113811472)"
            ]
          },
          "metadata": {}
        }
      ]
    }
  ],
  "metadata": {
    "accelerator": "GPU",
    "colab": {
      "provenance": []
    },
    "gpuClass": "standard",
    "kernelspec": {
      "display_name": "Python 3",
      "name": "python3"
    },
    "language_info": {
      "name": "python"
    }
  },
  "nbformat": 4,
  "nbformat_minor": 0
}