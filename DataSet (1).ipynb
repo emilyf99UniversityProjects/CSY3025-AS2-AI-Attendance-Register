{
  "cells": [
    {
      "cell_type": "markdown",
      "metadata": {
        "id": "d7tPnM5YE2KV"
      },
      "source": [
        "# File Header"
      ]
    },
    {
      "cell_type": "markdown",
      "metadata": {
        "id": "TQLTwbSDDHr3"
      },
      "source": [
        "**File Author**: Emily Fletcher\n",
        "\n",
        "**Student Number**: 18410839\n",
        "\n",
        "**File Purpose**: Passing a set of images into a Data Set, Aim is to train a model  \n",
        "              on recognition of the 5 people sampled.\n",
        "\n",
        "**Last Changed**: 16/05/2023\n",
        "\n",
        "**Last Model Download**: 16/05/2023\n",
        "\n",
        "**Version**: 1.0\n",
        "\n",
        "**Instructions**\n",
        "\n",
        "Ensure model is corrected to Google Drive with correct directories before proceeding through Stage 2 Onwards"
      ]
    },
    {
      "cell_type": "markdown",
      "metadata": {
        "id": "C3R9iGviAs3-"
      },
      "source": [
        "# Stage 1: Connecting to the Google Drive"
      ]
    },
    {
      "cell_type": "code",
      "execution_count": null,
      "metadata": {
        "colab": {
          "base_uri": "https://localhost:8080/"
        },
        "id": "Xn8kWjOGSd-4",
        "outputId": "2aadb2ca-f379-4e08-c065-71928a8264ca"
      },
      "outputs": [
        {
          "output_type": "stream",
          "name": "stdout",
          "text": [
            "Mounted at /content/drive\n",
            "True\n",
            "True\n",
            "True\n"
          ]
        }
      ],
      "source": [
        "from google.colab import drive\n",
        "import os\n",
        "# Force Remount to account for Google Drive Reload Errors\n",
        "drive.mount('/content/drive', force_remount=True)\n",
        "\n",
        "#Checking Path is valid \n",
        "print(os.path.exists('/content/drive/MyDrive/DataSetAIAssignment/training'))\n",
        "print(os.path.exists('/content/drive/MyDrive/DataSetAIAssignment/test'))\n",
        "print(os.path.exists('/content/drive/MyDrive/DataSetAIAssignment/validation'))"
      ]
    },
    {
      "cell_type": "code",
      "execution_count": null,
      "metadata": {
        "id": "fAt-Y_l5Vpfo"
      },
      "outputs": [],
      "source": [
        "import os, shutil\n",
        "\n",
        "# Main File Path\n",
        "base_dir = '/content/drive/MyDrive/DataSetAIAssignment/'\n",
        "\n",
        "# Setting Parent Folders\n",
        "train_dir = os.path.join(base_dir, 'training')\n",
        "validation_dir = os.path.join(base_dir, 'validation')\n",
        "test_dir = os.path.join(base_dir, 'test')\n",
        "\n",
        "# Setting Train Folders For Users\n",
        "train_CB_dir = os.path.join(train_dir, 'CB') # CB\n",
        "train_EF_dir = os.path.join(train_dir, 'EF') # EF\n",
        "train_JS_dir = os.path.join(train_dir, 'JS') # JS\n",
        "train_MB_dir = os.path.join(train_dir, 'MB') # MB\n",
        "train_RK_dir = os.path.join(train_dir, 'RK') # RK\n",
        "\n",
        "# Setting Validation Folders For Users\n",
        "validation_CB_dir = os.path.join(validation_dir, 'CB') # CB\n",
        "validation_EF_dir = os.path.join(validation_dir, 'EF') # EF\n",
        "validation_JS_dir = os.path.join(validation_dir, 'JS') # JS\n",
        "validation_MB_dir = os.path.join(validation_dir, 'MB') # MB\n",
        "validation_RK_dir = os.path.join(validation_dir, 'RK') # RK\n",
        "\n",
        "# Setting Test Folders For Users\n",
        "test_CB_dir = os.path.join(test_dir, 'CB') # CB\n",
        "test_EF_dir = os.path.join(test_dir, 'EF') # EF\n",
        "test_JS_dir = os.path.join(test_dir, 'JS') # JS\n",
        "test_MB_dir = os.path.join(test_dir, 'MB') # MB\n",
        "test_RK_dir = os.path.join(test_dir, 'RK') # RK\n"
      ]
    },
    {
      "cell_type": "markdown",
      "metadata": {
        "id": "irYBumRHCN6N"
      },
      "source": [
        "# Section 2: First Pass Of Iterations\n",
        "\n",
        "*   Assigning Batch Size\n",
        "*   Setting Image Size\n",
        "*   Creating VGG16 Base\n",
        "\n",
        "\n",
        "\n",
        "\n"
      ]
    },
    {
      "cell_type": "code",
      "execution_count": null,
      "metadata": {
        "colab": {
          "base_uri": "https://localhost:8080/"
        },
        "id": "hFjzCopgZn6J",
        "outputId": "784dfe35-16d9-4a35-c728-245af667fa96"
      },
      "outputs": [
        {
          "output_type": "stream",
          "name": "stdout",
          "text": [
            "Found 391 files belonging to 5 classes.\n",
            "Found 49 files belonging to 5 classes.\n",
            "Found 49 files belonging to 5 classes.\n"
          ]
        }
      ],
      "source": [
        "from tensorflow.keras.utils import image_dataset_from_directory\n",
        "\n",
        "# Assigning Batches and Image Sizes \n",
        "# Image Sizes Allow For Size Consistency\n",
        "\n",
        "# Training Batches\n",
        "train_dataset = image_dataset_from_directory(\n",
        "    train_dir,\n",
        "    image_size=(180, 180),\n",
        "    batch_size=32)\n",
        "\n",
        "# Validation Batches\n",
        "validation_dataset = image_dataset_from_directory(\n",
        "    validation_dir,\n",
        "    image_size=(180, 180),\n",
        "    batch_size=32)\n",
        "\n",
        "# Testing Batches\n",
        "test_dataset = image_dataset_from_directory(\n",
        "    test_dir,\n",
        "    image_size=(180, 180),\n",
        "    batch_size=32)\n"
      ]
    },
    {
      "cell_type": "code",
      "execution_count": null,
      "metadata": {
        "colab": {
          "base_uri": "https://localhost:8080/"
        },
        "id": "Kk_9yrME60sJ",
        "outputId": "e79c3da0-2b4b-418b-a32a-548d11a7ecba"
      },
      "outputs": [
        {
          "output_type": "stream",
          "name": "stdout",
          "text": [
            "Downloading data from https://storage.googleapis.com/tensorflow/keras-applications/vgg16/vgg16_weights_tf_dim_ordering_tf_kernels_notop.h5\n",
            "58889256/58889256 [==============================] - 0s 0us/step\n",
            "Model: \"vgg16\"\n",
            "_________________________________________________________________\n",
            " Layer (type)                Output Shape              Param #   \n",
            "=================================================================\n",
            " input_1 (InputLayer)        [(None, 180, 180, 3)]     0         \n",
            "                                                                 \n",
            " block1_conv1 (Conv2D)       (None, 180, 180, 64)      1792      \n",
            "                                                                 \n",
            " block1_conv2 (Conv2D)       (None, 180, 180, 64)      36928     \n",
            "                                                                 \n",
            " block1_pool (MaxPooling2D)  (None, 90, 90, 64)        0         \n",
            "                                                                 \n",
            " block2_conv1 (Conv2D)       (None, 90, 90, 128)       73856     \n",
            "                                                                 \n",
            " block2_conv2 (Conv2D)       (None, 90, 90, 128)       147584    \n",
            "                                                                 \n",
            " block2_pool (MaxPooling2D)  (None, 45, 45, 128)       0         \n",
            "                                                                 \n",
            " block3_conv1 (Conv2D)       (None, 45, 45, 256)       295168    \n",
            "                                                                 \n",
            " block3_conv2 (Conv2D)       (None, 45, 45, 256)       590080    \n",
            "                                                                 \n",
            " block3_conv3 (Conv2D)       (None, 45, 45, 256)       590080    \n",
            "                                                                 \n",
            " block3_pool (MaxPooling2D)  (None, 22, 22, 256)       0         \n",
            "                                                                 \n",
            " block4_conv1 (Conv2D)       (None, 22, 22, 512)       1180160   \n",
            "                                                                 \n",
            " block4_conv2 (Conv2D)       (None, 22, 22, 512)       2359808   \n",
            "                                                                 \n",
            " block4_conv3 (Conv2D)       (None, 22, 22, 512)       2359808   \n",
            "                                                                 \n",
            " block4_pool (MaxPooling2D)  (None, 11, 11, 512)       0         \n",
            "                                                                 \n",
            " block5_conv1 (Conv2D)       (None, 11, 11, 512)       2359808   \n",
            "                                                                 \n",
            " block5_conv2 (Conv2D)       (None, 11, 11, 512)       2359808   \n",
            "                                                                 \n",
            " block5_conv3 (Conv2D)       (None, 11, 11, 512)       2359808   \n",
            "                                                                 \n",
            " block5_pool (MaxPooling2D)  (None, 5, 5, 512)         0         \n",
            "                                                                 \n",
            "=================================================================\n",
            "Total params: 14,714,688\n",
            "Trainable params: 14,714,688\n",
            "Non-trainable params: 0\n",
            "_________________________________________________________________\n"
          ]
        }
      ],
      "source": [
        "from tensorflow import keras\n",
        "from tensorflow.keras import layers\n",
        "\n",
        "# Creating of the VGG16 Pre-Trained Neural Network\n",
        "\n",
        "# Weights State The Image Set That Should Be Used\n",
        "# input_shape should match image size and type used in batches\n",
        "conv_base = keras.applications.vgg16.VGG16(\n",
        "    weights=\"imagenet\",\n",
        "    include_top=False,\n",
        "    input_shape=(180, 180, 3),\n",
        "    pooling=None\n",
        ")\n",
        "# Prints A Summary For The User, Allows Model Checks \n",
        "conv_base.summary()"
      ]
    },
    {
      "cell_type": "code",
      "execution_count": null,
      "metadata": {
        "colab": {
          "base_uri": "https://localhost:8080/"
        },
        "id": "jhhjPWqKGgcz",
        "outputId": "fb02d604-b0fc-4847-9b37-79059bc3d8fc"
      },
      "outputs": [
        {
          "output_type": "stream",
          "name": "stdout",
          "text": [
            "1/1 [==============================] - 16s 16s/step\n",
            "1/1 [==============================] - 15s 15s/step\n",
            "1/1 [==============================] - 15s 15s/step\n",
            "1/1 [==============================] - 12s 12s/step\n",
            "1/1 [==============================] - 13s 13s/step\n",
            "1/1 [==============================] - 13s 13s/step\n",
            "1/1 [==============================] - 12s 12s/step\n",
            "1/1 [==============================] - 13s 13s/step\n",
            "1/1 [==============================] - 13s 13s/step\n",
            "1/1 [==============================] - 13s 13s/step\n",
            "1/1 [==============================] - 14s 14s/step\n",
            "1/1 [==============================] - 13s 13s/step\n",
            "1/1 [==============================] - 3s 3s/step\n",
            "1/1 [==============================] - 13s 13s/step\n",
            "1/1 [==============================] - 8s 8s/step\n",
            "1/1 [==============================] - 13s 13s/step\n",
            "1/1 [==============================] - 6s 6s/step\n"
          ]
        }
      ],
      "source": [
        "import numpy as np\n",
        "\n",
        "# Assigning labels \n",
        "def get_features_and_labels(dataset):\n",
        "    all_features = []\n",
        "    all_labels = []\n",
        "    for images, labels in dataset:\n",
        "        preprocessed_images = keras.applications.vgg16.preprocess_input(images)\n",
        "        features = conv_base.predict(preprocessed_images)\n",
        "        all_features.append(features)\n",
        "        all_labels.append(labels)\n",
        "    return np.concatenate(all_features), np.concatenate(all_labels)\n",
        "\n",
        "#Applying All Labels And Features To Each DataSet\n",
        "train_features, train_labels =  get_features_and_labels(train_dataset)\n",
        "val_features, val_labels =  get_features_and_labels(validation_dataset)\n",
        "test_features, test_labels =  get_features_and_labels(test_dataset)"
      ]
    },
    {
      "cell_type": "code",
      "execution_count": null,
      "metadata": {
        "colab": {
          "base_uri": "https://localhost:8080/"
        },
        "id": "p246SFwFHde7",
        "outputId": "c5562de6-c8ac-4271-82e9-ebd806cfea5e"
      },
      "outputs": [
        {
          "output_type": "stream",
          "name": "stdout",
          "text": [
            "Epoch 1/20\n",
            "13/13 [==============================] - 2s 72ms/step - loss: 31.5225 - accuracy: 0.8235 - val_loss: 12.1606 - val_accuracy: 0.8571\n",
            "Epoch 2/20\n",
            "13/13 [==============================] - 1s 79ms/step - loss: 1.2471 - accuracy: 0.9872 - val_loss: 7.9393 - val_accuracy: 0.8776\n",
            "Epoch 3/20\n",
            "13/13 [==============================] - 1s 71ms/step - loss: 0.1514 - accuracy: 0.9923 - val_loss: 18.7728 - val_accuracy: 0.8571\n",
            "Epoch 4/20\n",
            "13/13 [==============================] - 1s 68ms/step - loss: 0.2183 - accuracy: 0.9847 - val_loss: 14.9757 - val_accuracy: 0.9184\n",
            "Epoch 5/20\n",
            "13/13 [==============================] - 1s 70ms/step - loss: 1.3415e-08 - accuracy: 1.0000 - val_loss: 14.9758 - val_accuracy: 0.9184\n",
            "Epoch 6/20\n",
            "13/13 [==============================] - 1s 71ms/step - loss: 0.1565 - accuracy: 0.9949 - val_loss: 16.7722 - val_accuracy: 0.8980\n",
            "Epoch 7/20\n",
            "13/13 [==============================] - 1s 49ms/step - loss: 0.0000e+00 - accuracy: 1.0000 - val_loss: 16.7722 - val_accuracy: 0.8980\n",
            "Epoch 8/20\n",
            "13/13 [==============================] - 1s 47ms/step - loss: 0.0000e+00 - accuracy: 1.0000 - val_loss: 16.7722 - val_accuracy: 0.8980\n",
            "Epoch 9/20\n",
            "13/13 [==============================] - 1s 45ms/step - loss: 0.0000e+00 - accuracy: 1.0000 - val_loss: 16.7722 - val_accuracy: 0.8980\n",
            "Epoch 10/20\n",
            "13/13 [==============================] - 1s 46ms/step - loss: 0.0235 - accuracy: 0.9974 - val_loss: 21.8619 - val_accuracy: 0.8980\n",
            "Epoch 11/20\n",
            "13/13 [==============================] - 1s 47ms/step - loss: 0.1526 - accuracy: 0.9974 - val_loss: 16.9157 - val_accuracy: 0.8980\n",
            "Epoch 12/20\n",
            "13/13 [==============================] - 1s 45ms/step - loss: 9.0263e-07 - accuracy: 1.0000 - val_loss: 16.8844 - val_accuracy: 0.8980\n",
            "Epoch 13/20\n",
            "13/13 [==============================] - 1s 46ms/step - loss: 0.0432 - accuracy: 0.9974 - val_loss: 16.7826 - val_accuracy: 0.8776\n",
            "Epoch 14/20\n",
            "13/13 [==============================] - 1s 48ms/step - loss: 0.0840 - accuracy: 0.9974 - val_loss: 19.7328 - val_accuracy: 0.9184\n",
            "Epoch 15/20\n",
            "13/13 [==============================] - 1s 47ms/step - loss: 0.0000e+00 - accuracy: 1.0000 - val_loss: 19.7328 - val_accuracy: 0.9184\n",
            "Epoch 16/20\n",
            "13/13 [==============================] - 1s 45ms/step - loss: 0.0000e+00 - accuracy: 1.0000 - val_loss: 19.7328 - val_accuracy: 0.9184\n",
            "Epoch 17/20\n",
            "13/13 [==============================] - 1s 46ms/step - loss: 0.0000e+00 - accuracy: 1.0000 - val_loss: 19.7328 - val_accuracy: 0.9184\n",
            "Epoch 18/20\n",
            "13/13 [==============================] - 1s 46ms/step - loss: 1.1586e-08 - accuracy: 1.0000 - val_loss: 19.7299 - val_accuracy: 0.9184\n",
            "Epoch 19/20\n",
            "13/13 [==============================] - 1s 47ms/step - loss: 0.1768 - accuracy: 0.9923 - val_loss: 22.4297 - val_accuracy: 0.9184\n",
            "Epoch 20/20\n",
            "13/13 [==============================] - 1s 47ms/step - loss: 0.0459 - accuracy: 0.9949 - val_loss: 13.0927 - val_accuracy: 0.9184\n"
          ]
        }
      ],
      "source": [
        "# Applying Layers to the Model\n",
        "# Helps to Prevent OverFitting\n",
        "# Can Fine Tune By Adjusting Layers\n",
        "\n",
        "inputs = keras.Input(shape=(5, 5, 512))\n",
        "x = layers.Flatten()(inputs)\n",
        "x = layers.Dense(256)(x)\n",
        "x = layers.Dropout(0.5)(x)\n",
        "outputs = layers.Dense(7, activation=\"softmax\")(x)\n",
        "model = keras.Model(inputs, outputs)\n",
        "model.compile(loss=\"sparse_categorical_crossentropy\",\n",
        "              optimizer=\"rmsprop\",\n",
        "              metrics=[\"accuracy\"])\n",
        "\n",
        "# Fitting the Features And Labels From the VGG16 Model\n",
        "callbacks = [\n",
        "    keras.callbacks.ModelCheckpoint(\n",
        "      filepath=\"feature_extraction.keras\",\n",
        "      save_best_only=True,\n",
        "      monitor=\"val_loss\")\n",
        "]\n",
        "\n",
        "# Can Adjust epochs To Refine Model\n",
        "# 20 Chosen as visualisation graph levels out at around pass 15\n",
        "history = model.fit(\n",
        "    train_features, train_labels,\n",
        "    epochs=20,\n",
        "    validation_data=(val_features, val_labels),\n",
        "    callbacks=callbacks)"
      ]
    },
    {
      "cell_type": "code",
      "execution_count": null,
      "metadata": {
        "colab": {
          "base_uri": "https://localhost:8080/",
          "height": 887
        },
        "id": "ETvZoUxkCTBy",
        "outputId": "9d86da7b-cb1a-49c0-bfd7-76fbf0a7281b"
      },
      "outputs": [
        {
          "output_type": "display_data",
          "data": {
            "text/plain": [
              "<Figure size 640x480 with 1 Axes>"
            ],
            "image/png": "[encoded data removed]"
          },
          "metadata": {}
        },
        {
          "output_type": "display_data",
          "data": {
            "text/plain": [
              "<Figure size 640x480 with 1 Axes>"
            ],
            "image/png": "[encoded data removed]"
          },
          "metadata": {}
        }
      ],
      "source": [
        "# Generating Visualisation of the Passes\n",
        "# Allows assessment of training \n",
        "\n",
        "# Poor accuracy or high loss could indicate a need to adjust the layers, parameters or review the data samples\n",
        "\n",
        "import matplotlib.pyplot as plt\n",
        "acc = history.history[\"accuracy\"]\n",
        "val_acc = history.history[\"val_accuracy\"]\n",
        "loss = history.history[\"loss\"]\n",
        "val_loss = history.history[\"val_loss\"]\n",
        "epochs = range(1, len(acc) + 1)\n",
        "plt.plot(epochs, acc, \"bo\", label=\"Training accuracy\")\n",
        "plt.plot(epochs, val_acc, \"b\", label=\"Validation accuracy\")\n",
        "plt.title(\"Training and validation accuracy\")\n",
        "plt.legend()\n",
        "plt.figure()\n",
        "plt.plot(epochs, loss, \"bo\", label=\"Training loss\")\n",
        "plt.plot(epochs, val_loss, \"b\", label=\"Validation loss\")\n",
        "plt.title(\"Training and validation loss\")\n",
        "plt.legend()\n",
        "plt.show()"
      ]
    },
    {
      "cell_type": "markdown",
      "metadata": {
        "id": "UQ_uWrnS-ZAA"
      },
      "source": [
        "# Section 3: Further Refinement and Second Set of Iterations\n",
        "\n",
        "*   Freezing the Base VGG16 Model\n",
        "*   Adding Image Transformation (Augmentation)\n",
        "\n"
      ]
    },
    {
      "cell_type": "code",
      "execution_count": null,
      "metadata": {
        "id": "uHIdsDFMHlEj"
      },
      "outputs": [],
      "source": [
        "# Re-initialising the VGG16 Model \n",
        "# This time bases are frozen, prevents overwriting of previous work\n",
        "\n",
        "conv_base  = keras.applications.vgg16.VGG16(\n",
        "    weights=\"imagenet\",\n",
        "    include_top=False)\n",
        "conv_base.trainable = False"
      ]
    },
    {
      "cell_type": "code",
      "execution_count": null,
      "metadata": {
        "colab": {
          "base_uri": "https://localhost:8080/"
        },
        "id": "QACgTMcTHqTL",
        "outputId": "04a26a1d-d430-4b85-ecc1-fb0908b36b66"
      },
      "outputs": [
        {
          "output_type": "stream",
          "name": "stdout",
          "text": [
            "This is the number of trainable weights before freezing the conv base: 26\n",
            "This is the number of trainable weights after freezing the conv base: 0\n"
          ]
        }
      ],
      "source": [
        "# THis shows to the author the effect of the freezing \n",
        "# If values are the same then the model has not be frozen and should be reviewed before continuing\n",
        "conv_base.trainable = True\n",
        "print(\"This is the number of trainable weights \"\n",
        "      \"before freezing the conv base:\", len(conv_base.trainable_weights))\n",
        "\n",
        "conv_base.trainable = False\n",
        "print(\"This is the number of trainable weights \"\n",
        "      \"after freezing the conv base:\", len(conv_base.trainable_weights))"
      ]
    },
    {
      "cell_type": "code",
      "execution_count": null,
      "metadata": {
        "id": "lp8kri_RCTBz"
      },
      "outputs": [],
      "source": [
        "# Applying image transformations \n",
        "\n",
        "# Allows to artifically grow the dataset\n",
        "# Applying image transformations \n",
        "# Allows to artifically grow the dataset\n",
        "# Can adjust results by changing types of transformations and parameters\n",
        "data_augmentation = keras.Sequential(\n",
        "    [\n",
        "        layers.RandomFlip(\"horizontal\"),\n",
        "        layers.RandomRotation(0.1),\n",
        "        layers.RandomZoom(0.2),\n",
        "    ]\n",
        ")\n",
        "\n",
        "# Adding layers\n",
        "# Can add more layers if needed to fine tune\n",
        "# Same as previous method\n",
        "inputs = keras.Input(shape=(180, 180, 3))\n",
        "x = data_augmentation(inputs)\n",
        "x = keras.applications.vgg16.preprocess_input(x)\n",
        "x = conv_base(x)\n",
        "x = layers.Flatten()(x)\n",
        "x = layers.Dense(256)(x)\n",
        "x = layers.Dropout(0.5)(x)\n",
        "outputs = layers.Dense(5, activation=\"softmax\")(x)\n",
        "model = keras.Model(inputs, outputs)\n",
        "model.compile(loss=\"sparse_categorical_crossentropy\",\n",
        "              optimizer=\"rmsprop\",\n",
        "              metrics=[\"accuracy\"])"
      ]
    },
    {
      "cell_type": "code",
      "execution_count": null,
      "metadata": {
        "colab": {
          "base_uri": "https://localhost:8080/"
        },
        "id": "ZMpGk0dAHzo7",
        "outputId": "4bab9de6-264b-48c4-8b90-d4a1ebb2523c"
      },
      "outputs": [
        {
          "output_type": "stream",
          "name": "stdout",
          "text": [
            "Model: \"model_3\"\n",
            "_________________________________________________________________\n",
            " Layer (type)                Output Shape              Param #   \n",
            "=================================================================\n",
            " input_6 (InputLayer)        [(None, 180, 180, 3)]     0         \n",
            "                                                                 \n",
            " sequential_2 (Sequential)   (None, 180, 180, 3)       0         \n",
            "                                                                 \n",
            " tf.__operators__.getitem_2   (None, 180, 180, 3)      0         \n",
            " (SlicingOpLambda)                                               \n",
            "                                                                 \n",
            " tf.nn.bias_add_2 (TFOpLambd  (None, 180, 180, 3)      0         \n",
            " a)                                                              \n",
            "                                                                 \n",
            " vgg16 (Functional)          (None, None, None, 512)   14714688  \n",
            "                                                                 \n",
            " flatten_3 (Flatten)         (None, 12800)             0         \n",
            "                                                                 \n",
            " dense_6 (Dense)             (None, 256)               3277056   \n",
            "                                                                 \n",
            " dropout_3 (Dropout)         (None, 256)               0         \n",
            "                                                                 \n",
            " dense_7 (Dense)             (None, 5)                 1285      \n",
            "                                                                 \n",
            "=================================================================\n",
            "Total params: 17,993,029\n",
            "Trainable params: 3,278,341\n",
            "Non-trainable params: 14,714,688\n",
            "_________________________________________________________________\n"
          ]
        }
      ],
      "source": [
        "# Prints a model summary, allows for user to check accuracy \n",
        "model.summary()"
      ]
    },
    {
      "cell_type": "code",
      "execution_count": null,
      "metadata": {
        "colab": {
          "base_uri": "https://localhost:8080/"
        },
        "id": "99DAyM-rH4cL",
        "outputId": "e157aa9a-de3c-4635-e24f-f39c855d6338"
      },
      "outputs": [
        {
          "output_type": "stream",
          "name": "stdout",
          "text": [
            "Epoch 1/20\n",
            "13/13 [==============================] - 224s 16s/step - loss: 39.4619 - accuracy: 0.7238 - val_loss: 17.1357 - val_accuracy: 0.8776\n",
            "Epoch 2/20\n",
            "13/13 [==============================] - 223s 16s/step - loss: 2.8257 - accuracy: 0.9488 - val_loss: 6.1335 - val_accuracy: 0.8980\n",
            "Epoch 3/20\n",
            "13/13 [==============================] - 219s 16s/step - loss: 1.5533 - accuracy: 0.9616 - val_loss: 11.8884 - val_accuracy: 0.8776\n",
            "Epoch 4/20\n",
            "13/13 [==============================] - 221s 16s/step - loss: 1.4387 - accuracy: 0.9719 - val_loss: 6.2760 - val_accuracy: 0.8980\n",
            "Epoch 5/20\n",
            "13/13 [==============================] - 219s 16s/step - loss: 1.4751 - accuracy: 0.9770 - val_loss: 6.9554 - val_accuracy: 0.9184\n",
            "Epoch 6/20\n",
            "13/13 [==============================] - 220s 16s/step - loss: 1.5518 - accuracy: 0.9668 - val_loss: 9.0178 - val_accuracy: 0.9184\n",
            "Epoch 7/20\n",
            "13/13 [==============================] - 221s 16s/step - loss: 0.0026 - accuracy: 0.9974 - val_loss: 9.0058 - val_accuracy: 0.9388\n",
            "Epoch 8/20\n",
            "13/13 [==============================] - 220s 16s/step - loss: 1.4174 - accuracy: 0.9795 - val_loss: 8.0886 - val_accuracy: 0.9184\n",
            "Epoch 9/20\n",
            "13/13 [==============================] - 226s 17s/step - loss: 0.6956 - accuracy: 0.9770 - val_loss: 7.2684 - val_accuracy: 0.9592\n",
            "Epoch 10/20\n",
            "13/13 [==============================] - 200s 14s/step - loss: 0.4151 - accuracy: 0.9847 - val_loss: 15.3577 - val_accuracy: 0.8980\n",
            "Epoch 11/20\n",
            "13/13 [==============================] - 229s 17s/step - loss: 1.2830 - accuracy: 0.9847 - val_loss: 21.7381 - val_accuracy: 0.9184\n",
            "Epoch 12/20\n",
            "13/13 [==============================] - 221s 16s/step - loss: 0.6215 - accuracy: 0.9872 - val_loss: 13.2061 - val_accuracy: 0.9184\n",
            "Epoch 13/20\n",
            "13/13 [==============================] - 236s 17s/step - loss: 0.4914 - accuracy: 0.9898 - val_loss: 16.1502 - val_accuracy: 0.9184\n",
            "Epoch 14/20\n",
            "13/13 [==============================] - 219s 16s/step - loss: 0.7897 - accuracy: 0.9847 - val_loss: 22.7637 - val_accuracy: 0.9184\n",
            "Epoch 15/20\n",
            "13/13 [==============================] - 219s 16s/step - loss: 0.2275 - accuracy: 0.9949 - val_loss: 18.2902 - val_accuracy: 0.9388\n",
            "Epoch 16/20\n",
            "13/13 [==============================] - 205s 15s/step - loss: 0.5292 - accuracy: 0.9898 - val_loss: 15.2866 - val_accuracy: 0.9388\n",
            "Epoch 17/20\n",
            "13/13 [==============================] - 220s 16s/step - loss: 0.3920 - accuracy: 0.9923 - val_loss: 14.8203 - val_accuracy: 0.9388\n",
            "Epoch 18/20\n",
            "13/13 [==============================] - 218s 16s/step - loss: 0.2710 - accuracy: 0.9949 - val_loss: 14.7361 - val_accuracy: 0.9388\n",
            "Epoch 19/20\n",
            "13/13 [==============================] - 220s 16s/step - loss: 0.2361 - accuracy: 0.9898 - val_loss: 25.2462 - val_accuracy: 0.8980\n",
            "Epoch 20/20\n",
            "13/13 [==============================] - 232s 17s/step - loss: 1.3026 - accuracy: 0.9898 - val_loss: 17.6177 - val_accuracy: 0.9184\n"
          ]
        }
      ],
      "source": [
        "# Fitting the Features And Labels From the VGG16 Model\n",
        "callbacks = [\n",
        "    keras.callbacks.ModelCheckpoint(\n",
        "        filepath=\"feature_extraction_with_data_augmentation.keras\",\n",
        "        save_best_only=True,\n",
        "        monitor=\"val_loss\")\n",
        "]\n",
        "\n",
        "# Can Adjust epochs To Refine Model\n",
        "# 20 Chosen as visualisation graph levels out at around pass 15\n",
        "history = model.fit(\n",
        "    train_dataset,\n",
        "    epochs=20,\n",
        "    validation_data=validation_dataset,\n",
        "    callbacks=callbacks)"
      ]
    },
    {
      "cell_type": "code",
      "execution_count": null,
      "metadata": {
        "colab": {
          "base_uri": "https://localhost:8080/",
          "height": 887
        },
        "id": "sVz_r4G_H79L",
        "outputId": "81b858be-cc92-477a-c0e0-606f0df20aef"
      },
      "outputs": [
        {
          "output_type": "display_data",
          "data": {
            "text/plain": [
              "<Figure size 640x480 with 1 Axes>"
            ],
            "image/png": "[encoded data removed]"
          },
          "metadata": {}
        },
        {
          "output_type": "display_data",
          "data": {
            "text/plain": [
              "<Figure size 640x480 with 1 Axes>"
            ],
            "image/png": "[encoded data removed]"
          },
          "metadata": {}
        }
      ],
      "source": [
        "# Generating Visualisation of the Passes\n",
        "# Allows assessment of training \n",
        "\n",
        "# Poor accuracy or high loss could indicate a need to adjust the layers, parameters or review the data samples\n",
        "\n",
        "import matplotlib.pyplot as plt\n",
        "acc = history.history[\"accuracy\"]\n",
        "val_acc = history.history[\"val_accuracy\"]\n",
        "loss = history.history[\"loss\"]\n",
        "val_loss = history.history[\"val_loss\"]\n",
        "epochs = range(1, len(acc) + 1)\n",
        "plt.plot(epochs, acc, \"bo\", label=\"Training accuracy\")\n",
        "plt.plot(epochs, val_acc, \"b\", label=\"Validation accuracy\")\n",
        "plt.title(\"Training and validation accuracy\")\n",
        "plt.legend()\n",
        "plt.figure()\n",
        "plt.plot(epochs, loss, \"bo\", label=\"Training loss\")\n",
        "plt.plot(epochs, val_loss, \"b\", label=\"Validation loss\")\n",
        "plt.title(\"Training and validation loss\")\n",
        "plt.legend()\n",
        "plt.show()"
      ]
    },
    {
      "cell_type": "code",
      "execution_count": null,
      "metadata": {
        "colab": {
          "base_uri": "https://localhost:8080/"
        },
        "id": "niDuFivXH8pL",
        "outputId": "41eabdf7-3bcf-4fe6-875f-0f72ff7eb00b"
      },
      "outputs": [
        {
          "output_type": "stream",
          "name": "stdout",
          "text": [
            "2/2 [==============================] - 23s 8s/step - loss: 26.8125 - accuracy: 0.8571\n",
            "Test accuracy: 0.857\n"
          ]
        }
      ],
      "source": [
        "# Finding the accuracy of the current model\n",
        "\n",
        "test_model = keras.models.load_model(\n",
        "    \"feature_extraction_with_data_augmentation.keras\")\n",
        "test_loss, test_acc = test_model.evaluate(test_dataset)\n",
        "print(f\"Test accuracy: {test_acc:.3f}\")"
      ]
    },
    {
      "cell_type": "markdown",
      "source": [],
      "metadata": {
        "id": "fm8JQuzNN-GQ"
      }
    },
    {
      "cell_type": "markdown",
      "source": [
        "# Section 4: Final Interations and Fine Tuning\n",
        "\n",
        "\n",
        "*   Un-Freezing Layers\n",
        "*   Freezing Last Four Layers\n",
        "\n"
      ],
      "metadata": {
        "id": "hjr6FhcN7mme"
      }
    },
    {
      "cell_type": "code",
      "execution_count": null,
      "metadata": {
        "id": "mE3SE7XUH_tr"
      },
      "outputs": [],
      "source": [
        "# Setting to true unfreezes all the previous frozen layers\n",
        "# Removes the last four layers from being trainable\n",
        "# Allows training for general features without removing all progress so far\n",
        "\n",
        "conv_base.trainable = True\n",
        "for layer in conv_base.layers[:-4]:\n",
        "    layer.trainable = False"
      ]
    },
    {
      "cell_type": "code",
      "execution_count": null,
      "metadata": {
        "colab": {
          "base_uri": "https://localhost:8080/"
        },
        "id": "KgA1ZierPq33",
        "outputId": "bbbf6ed8-6c02-4783-98ff-f9ba99e418b7"
      },
      "outputs": [
        {
          "output_type": "stream",
          "name": "stdout",
          "text": [
            "Model: \"vgg16\"\n",
            "_________________________________________________________________\n",
            " Layer (type)                Output Shape              Param #   \n",
            "=================================================================\n",
            " input_3 (InputLayer)        [(None, None, None, 3)]   0         \n",
            "                                                                 \n",
            " block1_conv1 (Conv2D)       (None, None, None, 64)    1792      \n",
            "                                                                 \n",
            " block1_conv2 (Conv2D)       (None, None, None, 64)    36928     \n",
            "                                                                 \n",
            " block1_pool (MaxPooling2D)  (None, None, None, 64)    0         \n",
            "                                                                 \n",
            " block2_conv1 (Conv2D)       (None, None, None, 128)   73856     \n",
            "                                                                 \n",
            " block2_conv2 (Conv2D)       (None, None, None, 128)   147584    \n",
            "                                                                 \n",
            " block2_pool (MaxPooling2D)  (None, None, None, 128)   0         \n",
            "                                                                 \n",
            " block3_conv1 (Conv2D)       (None, None, None, 256)   295168    \n",
            "                                                                 \n",
            " block3_conv2 (Conv2D)       (None, None, None, 256)   590080    \n",
            "                                                                 \n",
            " block3_conv3 (Conv2D)       (None, None, None, 256)   590080    \n",
            "                                                                 \n",
            " block3_pool (MaxPooling2D)  (None, None, None, 256)   0         \n",
            "                                                                 \n",
            " block4_conv1 (Conv2D)       (None, None, None, 512)   1180160   \n",
            "                                                                 \n",
            " block4_conv2 (Conv2D)       (None, None, None, 512)   2359808   \n",
            "                                                                 \n",
            " block4_conv3 (Conv2D)       (None, None, None, 512)   2359808   \n",
            "                                                                 \n",
            " block4_pool (MaxPooling2D)  (None, None, None, 512)   0         \n",
            "                                                                 \n",
            " block5_conv1 (Conv2D)       (None, None, None, 512)   2359808   \n",
            "                                                                 \n",
            " block5_conv2 (Conv2D)       (None, None, None, 512)   2359808   \n",
            "                                                                 \n",
            " block5_conv3 (Conv2D)       (None, None, None, 512)   2359808   \n",
            "                                                                 \n",
            " block5_pool (MaxPooling2D)  (None, None, None, 512)   0         \n",
            "                                                                 \n",
            "=================================================================\n",
            "Total params: 14,714,688\n",
            "Trainable params: 7,079,424\n",
            "Non-trainable params: 7,635,264\n",
            "_________________________________________________________________\n"
          ]
        }
      ],
      "source": [
        "# Building a summary of the current model\n",
        "conv_base.summary()"
      ]
    },
    {
      "cell_type": "code",
      "execution_count": null,
      "metadata": {
        "colab": {
          "base_uri": "https://localhost:8080/"
        },
        "id": "IXoht-waIHTr",
        "outputId": "d3442a90-9263-459d-df2e-ad05b88b934a"
      },
      "outputs": [
        {
          "output_type": "stream",
          "name": "stdout",
          "text": [
            "Epoch 1/30\n",
            "13/13 [==============================] - 247s 18s/step - loss: 0.4091 - accuracy: 0.9949 - val_loss: 13.0497 - val_accuracy: 0.9388\n",
            "Epoch 2/30\n",
            "13/13 [==============================] - 254s 18s/step - loss: 0.0807 - accuracy: 0.9949 - val_loss: 14.1537 - val_accuracy: 0.9184\n",
            "Epoch 3/30\n",
            "13/13 [==============================] - 249s 18s/step - loss: 0.0241 - accuracy: 0.9949 - val_loss: 13.8254 - val_accuracy: 0.9388\n",
            "Epoch 4/30\n",
            "13/13 [==============================] - 249s 18s/step - loss: 0.1586 - accuracy: 0.9974 - val_loss: 13.4397 - val_accuracy: 0.9184\n",
            "Epoch 5/30\n",
            "13/13 [==============================] - 251s 18s/step - loss: 0.3379 - accuracy: 0.9974 - val_loss: 12.6306 - val_accuracy: 0.9388\n",
            "Epoch 6/30\n",
            "13/13 [==============================] - 251s 18s/step - loss: 0.2469 - accuracy: 0.9923 - val_loss: 15.2164 - val_accuracy: 0.8980\n",
            "Epoch 7/30\n",
            "13/13 [==============================] - 246s 18s/step - loss: 0.5191 - accuracy: 0.9949 - val_loss: 12.9464 - val_accuracy: 0.9184\n",
            "Epoch 8/30\n",
            "13/13 [==============================] - 245s 18s/step - loss: 0.3181 - accuracy: 0.9923 - val_loss: 14.9455 - val_accuracy: 0.8980\n",
            "Epoch 9/30\n",
            "13/13 [==============================] - 251s 18s/step - loss: 0.0730 - accuracy: 0.9949 - val_loss: 14.8073 - val_accuracy: 0.8980\n",
            "Epoch 10/30\n",
            "13/13 [==============================] - 247s 18s/step - loss: 0.1784 - accuracy: 0.9974 - val_loss: 14.5721 - val_accuracy: 0.8980\n",
            "Epoch 11/30\n",
            "13/13 [==============================] - 274s 20s/step - loss: 0.1227 - accuracy: 0.9949 - val_loss: 15.4812 - val_accuracy: 0.8980\n",
            "Epoch 12/30\n",
            "13/13 [==============================] - 235s 17s/step - loss: 6.0977e-10 - accuracy: 1.0000 - val_loss: 15.4812 - val_accuracy: 0.8980\n",
            "Epoch 13/30\n",
            "13/13 [==============================] - 250s 18s/step - loss: 0.3881 - accuracy: 0.9949 - val_loss: 15.4524 - val_accuracy: 0.8980\n",
            "Epoch 14/30\n",
            "13/13 [==============================] - 230s 17s/step - loss: 1.9178e-04 - accuracy: 1.0000 - val_loss: 16.4956 - val_accuracy: 0.8980\n",
            "Epoch 15/30\n",
            "13/13 [==============================] - 247s 18s/step - loss: 0.0889 - accuracy: 0.9949 - val_loss: 14.3479 - val_accuracy: 0.8980\n",
            "Epoch 16/30\n",
            "13/13 [==============================] - 251s 18s/step - loss: 3.7195e-08 - accuracy: 1.0000 - val_loss: 14.3480 - val_accuracy: 0.8980\n",
            "Epoch 17/30\n",
            "13/13 [==============================] - 245s 18s/step - loss: 0.2147 - accuracy: 0.9949 - val_loss: 14.3468 - val_accuracy: 0.9184\n",
            "Epoch 18/30\n",
            "13/13 [==============================] - 225s 16s/step - loss: 0.0000e+00 - accuracy: 1.0000 - val_loss: 14.3468 - val_accuracy: 0.9184\n",
            "Epoch 19/30\n",
            "13/13 [==============================] - 247s 18s/step - loss: 0.2324 - accuracy: 0.9974 - val_loss: 16.1085 - val_accuracy: 0.9184\n",
            "Epoch 20/30\n",
            "13/13 [==============================] - 247s 18s/step - loss: 0.1003 - accuracy: 0.9974 - val_loss: 13.4204 - val_accuracy: 0.9184\n",
            "Epoch 21/30\n",
            "13/13 [==============================] - 247s 18s/step - loss: 0.1306 - accuracy: 0.9974 - val_loss: 12.6506 - val_accuracy: 0.9184\n",
            "Epoch 22/30\n",
            "13/13 [==============================] - 250s 18s/step - loss: 0.0807 - accuracy: 0.9974 - val_loss: 13.2241 - val_accuracy: 0.9184\n",
            "Epoch 23/30\n",
            "13/13 [==============================] - 248s 18s/step - loss: 0.0000e+00 - accuracy: 1.0000 - val_loss: 13.2241 - val_accuracy: 0.9184\n",
            "Epoch 24/30\n",
            "13/13 [==============================] - 246s 18s/step - loss: 0.1614 - accuracy: 0.9974 - val_loss: 11.4427 - val_accuracy: 0.9184\n",
            "Epoch 25/30\n",
            "13/13 [==============================] - 248s 18s/step - loss: 1.0285e-06 - accuracy: 1.0000 - val_loss: 11.4660 - val_accuracy: 0.9184\n",
            "Epoch 26/30\n",
            "13/13 [==============================] - 227s 17s/step - loss: 0.0000e+00 - accuracy: 1.0000 - val_loss: 11.4660 - val_accuracy: 0.9184\n",
            "Epoch 27/30\n",
            "13/13 [==============================] - 228s 17s/step - loss: 1.3060e-05 - accuracy: 1.0000 - val_loss: 11.5125 - val_accuracy: 0.9184\n",
            "Epoch 28/30\n",
            "13/13 [==============================] - 246s 18s/step - loss: 0.0627 - accuracy: 0.9949 - val_loss: 12.5278 - val_accuracy: 0.9184\n",
            "Epoch 29/30\n",
            "13/13 [==============================] - 248s 18s/step - loss: 0.0048 - accuracy: 0.9974 - val_loss: 14.2666 - val_accuracy: 0.8980\n",
            "Epoch 30/30\n",
            "13/13 [==============================] - 248s 18s/step - loss: 0.0376 - accuracy: 0.9974 - val_loss: 13.7753 - val_accuracy: 0.8980\n"
          ]
        }
      ],
      "source": [
        "# Compiling the final model before running the fitting process\n",
        "# Can adjust the custom learning rate to fine tweak model\n",
        "# Can adjust the epochs to fine tune the model\n",
        "\n",
        "model.compile(loss=\"sparse_categorical_crossentropy\",\n",
        "              optimizer=keras.optimizers.RMSprop(learning_rate=1e-5),\n",
        "              metrics=[\"accuracy\"])\n",
        "\n",
        "callbacks = [\n",
        "    keras.callbacks.ModelCheckpoint(\n",
        "        filepath=\"fine_tuning.keras\",\n",
        "        save_best_only=True,\n",
        "        monitor=\"val_loss\")\n",
        "]\n",
        "history = model.fit(\n",
        "    train_dataset,\n",
        "    epochs=30,\n",
        "    validation_data=validation_dataset,\n",
        "    callbacks=callbacks)"
      ]
    },
    {
      "cell_type": "code",
      "execution_count": null,
      "metadata": {
        "colab": {
          "base_uri": "https://localhost:8080/",
          "height": 887
        },
        "id": "GVXZbbnHIHvT",
        "outputId": "f12d7654-d561-4f86-9fc6-e52bb51d937f"
      },
      "outputs": [
        {
          "output_type": "display_data",
          "data": {
            "text/plain": [
              "<Figure size 640x480 with 1 Axes>"
            ],
            "image/png": "[encoded data removed]"
          },
          "metadata": {}
        },
        {
          "output_type": "display_data",
          "data": {
            "text/plain": [
              "<Figure size 640x480 with 1 Axes>"
            ],
            "image/png": "[encoded data removed]"
          },
          "metadata": {}
        }
      ],
      "source": [
        "# Generating Visualisation of the Passes\n",
        "# Allows assessment of training \n",
        "\n",
        "# Poor accuracy or high loss could indicate a need to adjust the layers, parameters or review the data samples\n",
        "import matplotlib.pyplot as plt\n",
        "acc = history.history[\"accuracy\"]\n",
        "val_acc = history.history[\"val_accuracy\"]\n",
        "loss = history.history[\"loss\"]\n",
        "val_loss = history.history[\"val_loss\"]\n",
        "epochs = range(1, len(acc) + 1)\n",
        "plt.plot(epochs, acc, \"bo\", label=\"Training accuracy\")\n",
        "plt.plot(epochs, val_acc, \"b\", label=\"Validation accuracy\")\n",
        "plt.title(\"Training and validation accuracy\")\n",
        "plt.legend()\n",
        "plt.figure()\n",
        "plt.plot(epochs, loss, \"bo\", label=\"Training loss\")\n",
        "plt.plot(epochs, val_loss, \"b\", label=\"Validation loss\")\n",
        "plt.title(\"Training and validation loss\")\n",
        "plt.legend()\n",
        "plt.show()"
      ]
    },
    {
      "cell_type": "code",
      "execution_count": null,
      "metadata": {
        "colab": {
          "base_uri": "https://localhost:8080/"
        },
        "id": "qwI2w9L3IJty",
        "outputId": "f7529add-fcbe-40aa-b5d8-510f31cdf099"
      },
      "outputs": [
        {
          "output_type": "stream",
          "name": "stdout",
          "text": [
            "2/2 [==============================] - 22s 6s/step - loss: 25.4979 - accuracy: 0.8776\n",
            "Test accuracy: 0.878\n"
          ]
        }
      ],
      "source": [
        "# Final accuracy assessment fo total model\n",
        "\n",
        "model = keras.models.load_model(\"fine_tuning.keras\")\n",
        "test_loss, test_acc = model.evaluate(test_dataset)\n",
        "print(f\"Test accuracy: {test_acc:.3f}\")"
      ]
    },
    {
      "cell_type": "markdown",
      "source": [
        "# Section 5: Downloading the Data Set"
      ],
      "metadata": {
        "id": "FDRo6_wfON7e"
      }
    },
    {
      "cell_type": "code",
      "source": [
        "# Comment Out When Not Using\n",
        "\n",
        "#from google.colab import drive\n",
        "#from google.colab import files\n",
        "\n",
        "#model.save('/content/model.h5')\n",
        "\n",
        "#feature_extraction = '/content/feature_extraction.keras'\n",
        "#feature_extraction_with_data_aug = '/content/feature_extraction_with_data_augmentation.keras'\n",
        "#fine_tuning = '/content/fine_tuning.keras'\n",
        "\n",
        "#files.download(feature_extraction)\n",
        "#files.download(feature_extraction_with_data_aug)\n",
        "#files.download(fine_tuning)\n",
        "#files.download('/content/model.h5')"
      ],
      "metadata": {
        "colab": {
          "base_uri": "https://localhost:8080/",
          "height": 17
        },
        "id": "RaPYgo0ROokF",
        "outputId": "2ff5d620-8c61-4165-9996-5dac490c30c4"
      },
      "execution_count": null,
      "outputs": [
        {
          "output_type": "display_data",
          "data": {
            "text/plain": [
              "<IPython.core.display.Javascript object>"
            ],
            "application/javascript": [
              "\n",
              "    async function download(id, filename, size) {\n",
              "      if (!google.colab.kernel.accessAllowed) {\n",
              "        return;\n",
              "      }\n",
              "      const div = document.createElement('div');\n",
              "      const label = document.createElement('label');\n",
              "      label.textContent = `Downloading \"${filename}\": `;\n",
              "      div.appendChild(label);\n",
              "      const progress = document.createElement('progress');\n",
              "      progress.max = size;\n",
              "      div.appendChild(progress);\n",
              "      document.body.appendChild(div);\n",
              "\n",
              "      const buffers = [];\n",
              "      let downloaded = 0;\n",
              "\n",
              "      const channel = await google.colab.kernel.comms.open(id);\n",
              "      // Send a message to notify the kernel that we're ready.\n",
              "      channel.send({})\n",
              "\n",
              "      for await (const message of channel.messages) {\n",
              "        // Send a message to notify the kernel that we're ready.\n",
              "        channel.send({})\n",
              "        if (message.buffers) {\n",
              "          for (const buffer of message.buffers) {\n",
              "            buffers.push(buffer);\n",
              "            downloaded += buffer.byteLength;\n",
              "            progress.value = downloaded;\n",
              "          }\n",
              "        }\n",
              "      }\n",
              "      const blob = new Blob(buffers, {type: 'application/binary'});\n",
              "      const a = document.createElement('a');\n",
              "      a.href = window.URL.createObjectURL(blob);\n",
              "      a.download = filename;\n",
              "      div.appendChild(a);\n",
              "      a.click();\n",
              "      div.remove();\n",
              "    }\n",
              "  "
            ]
          },
          "metadata": {}
        },
        {
          "output_type": "display_data",
          "data": {
            "text/plain": [
              "<IPython.core.display.Javascript object>"
            ],
            "application/javascript": [
              "download(\"download_ed4e1c20-1597-4ce5-ace4-700c21adc05a\", \"feature_extraction.keras\", 26254440)"
            ]
          },
          "metadata": {}
        },
        {
          "output_type": "display_data",
          "data": {
            "text/plain": [
              "<IPython.core.display.Javascript object>"
            ],
            "application/javascript": [
              "\n",
              "    async function download(id, filename, size) {\n",
              "      if (!google.colab.kernel.accessAllowed) {\n",
              "        return;\n",
              "      }\n",
              "      const div = document.createElement('div');\n",
              "      const label = document.createElement('label');\n",
              "      label.textContent = `Downloading \"${filename}\": `;\n",
              "      div.appendChild(label);\n",
              "      const progress = document.createElement('progress');\n",
              "      progress.max = size;\n",
              "      div.appendChild(progress);\n",
              "      document.body.appendChild(div);\n",
              "\n",
              "      const buffers = [];\n",
              "      let downloaded = 0;\n",
              "\n",
              "      const channel = await google.colab.kernel.comms.open(id);\n",
              "      // Send a message to notify the kernel that we're ready.\n",
              "      channel.send({})\n",
              "\n",
              "      for await (const message of channel.messages) {\n",
              "        // Send a message to notify the kernel that we're ready.\n",
              "        channel.send({})\n",
              "        if (message.buffers) {\n",
              "          for (const buffer of message.buffers) {\n",
              "            buffers.push(buffer);\n",
              "            downloaded += buffer.byteLength;\n",
              "            progress.value = downloaded;\n",
              "          }\n",
              "        }\n",
              "      }\n",
              "      const blob = new Blob(buffers, {type: 'application/binary'});\n",
              "      const a = document.createElement('a');\n",
              "      a.href = window.URL.createObjectURL(blob);\n",
              "      a.download = filename;\n",
              "      div.appendChild(a);\n",
              "      a.click();\n",
              "      div.remove();\n",
              "    }\n",
              "  "
            ]
          },
          "metadata": {}
        },
        {
          "output_type": "display_data",
          "data": {
            "text/plain": [
              "<IPython.core.display.Javascript object>"
            ],
            "application/javascript": [
              "download(\"download_7a4d5bcd-380a-4a28-8289-cae97cf68c4e\", \"feature_extraction_with_data_augmentation.keras\", 85157624)"
            ]
          },
          "metadata": {}
        },
        {
          "output_type": "display_data",
          "data": {
            "text/plain": [
              "<IPython.core.display.Javascript object>"
            ],
            "application/javascript": [
              "\n",
              "    async function download(id, filename, size) {\n",
              "      if (!google.colab.kernel.accessAllowed) {\n",
              "        return;\n",
              "      }\n",
              "      const div = document.createElement('div');\n",
              "      const label = document.createElement('label');\n",
              "      label.textContent = `Downloading \"${filename}\": `;\n",
              "      div.appendChild(label);\n",
              "      const progress = document.createElement('progress');\n",
              "      progress.max = size;\n",
              "      div.appendChild(progress);\n",
              "      document.body.appendChild(div);\n",
              "\n",
              "      const buffers = [];\n",
              "      let downloaded = 0;\n",
              "\n",
              "      const channel = await google.colab.kernel.comms.open(id);\n",
              "      // Send a message to notify the kernel that we're ready.\n",
              "      channel.send({})\n",
              "\n",
              "      for await (const message of channel.messages) {\n",
              "        // Send a message to notify the kernel that we're ready.\n",
              "        channel.send({})\n",
              "        if (message.buffers) {\n",
              "          for (const buffer of message.buffers) {\n",
              "            buffers.push(buffer);\n",
              "            downloaded += buffer.byteLength;\n",
              "            progress.value = downloaded;\n",
              "          }\n",
              "        }\n",
              "      }\n",
              "      const blob = new Blob(buffers, {type: 'application/binary'});\n",
              "      const a = document.createElement('a');\n",
              "      a.href = window.URL.createObjectURL(blob);\n",
              "      a.download = filename;\n",
              "      div.appendChild(a);\n",
              "      a.click();\n",
              "      div.remove();\n",
              "    }\n",
              "  "
            ]
          },
          "metadata": {}
        },
        {
          "output_type": "display_data",
          "data": {
            "text/plain": [
              "<IPython.core.display.Javascript object>"
            ],
            "application/javascript": [
              "download(\"download_bddbec09-84b5-4e32-822f-3e3c1d157f54\", \"fine_tuning.keras\", 113481560)"
            ]
          },
          "metadata": {}
        },
        {
          "output_type": "display_data",
          "data": {
            "text/plain": [
              "<IPython.core.display.Javascript object>"
            ],
            "application/javascript": [
              "\n",
              "    async function download(id, filename, size) {\n",
              "      if (!google.colab.kernel.accessAllowed) {\n",
              "        return;\n",
              "      }\n",
              "      const div = document.createElement('div');\n",
              "      const label = document.createElement('label');\n",
              "      label.textContent = `Downloading \"${filename}\": `;\n",
              "      div.appendChild(label);\n",
              "      const progress = document.createElement('progress');\n",
              "      progress.max = size;\n",
              "      div.appendChild(progress);\n",
              "      document.body.appendChild(div);\n",
              "\n",
              "      const buffers = [];\n",
              "      let downloaded = 0;\n",
              "\n",
              "      const channel = await google.colab.kernel.comms.open(id);\n",
              "      // Send a message to notify the kernel that we're ready.\n",
              "      channel.send({})\n",
              "\n",
              "      for await (const message of channel.messages) {\n",
              "        // Send a message to notify the kernel that we're ready.\n",
              "        channel.send({})\n",
              "        if (message.buffers) {\n",
              "          for (const buffer of message.buffers) {\n",
              "            buffers.push(buffer);\n",
              "            downloaded += buffer.byteLength;\n",
              "            progress.value = downloaded;\n",
              "          }\n",
              "        }\n",
              "      }\n",
              "      const blob = new Blob(buffers, {type: 'application/binary'});\n",
              "      const a = document.createElement('a');\n",
              "      a.href = window.URL.createObjectURL(blob);\n",
              "      a.download = filename;\n",
              "      div.appendChild(a);\n",
              "      a.click();\n",
              "      div.remove();\n",
              "    }\n",
              "  "
            ]
          },
          "metadata": {}
        },
        {
          "output_type": "display_data",
          "data": {
            "text/plain": [
              "<IPython.core.display.Javascript object>"
            ],
            "application/javascript": [
              "download(\"download_5991438c-8c1f-41c2-b59b-08770c6add8e\", \"model.h5\", 113480528)"
            ]
          },
          "metadata": {}
        }
      ]
    }
  ],
  "metadata": {
    "accelerator": "GPU",
    "colab": {
      "provenance": []
    },
    "gpuClass": "standard",
    "kernelspec": {
      "display_name": "Python 3",
      "name": "python3"
    },
    "language_info": {
      "name": "python"
    }
  },
  "nbformat": 4,
  "nbformat_minor": 0
}