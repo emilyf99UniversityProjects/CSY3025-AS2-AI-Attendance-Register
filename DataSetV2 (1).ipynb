{
  "cells": [
    {
      "cell_type": "markdown",
      "metadata": {
        "id": "d7tPnM5YE2KV"
      },
      "source": [
        "# File Header"
      ]
    },
    {
      "cell_type": "markdown",
      "metadata": {
        "id": "TQLTwbSDDHr3"
      },
      "source": [
        "**File Author**: Emily Fletcher\n",
        "\n",
        "**Student Number**: 18410839\n",
        "\n",
        "**File Purpose**: Passing a set of images into a Data Set, Aim is to train a model  \n",
        "              on recognition of the 5 people sampled.\n",
        "\n",
        "**Last Changed**: 16/05/2023\n",
        "\n",
        "**Last Model Download**: 16/05/2023\n",
        "\n",
        "**Version**: 2.0\n",
        "\n",
        "**Instructions**\n",
        "\n",
        "Ensure model is corrected to Google Drive with correct directories before proceeding through Stage 2 Onwards"
      ]
    },
    {
      "cell_type": "code",
      "source": [
        "# Key Imports\n",
        "import tensorflow as tf\n",
        "from tensorflow import keras\n",
        "from tensorflow.keras import layers, regularizers\n",
        "from tensorflow.keras.callbacks import ModelCheckpoint, EarlyStopping\n",
        "\n",
        "from google.colab import drive\n",
        "import os, shutil\n",
        "\n",
        "from tensorflow.keras.utils import image_dataset_from_directory\n",
        "\n",
        "import numpy as np\n",
        "import matplotlib.pyplot as plt\n"
      ],
      "metadata": {
        "id": "XuhO_wgWqxk3"
      },
      "execution_count": 54,
      "outputs": []
    },
    {
      "cell_type": "markdown",
      "metadata": {
        "id": "C3R9iGviAs3-"
      },
      "source": [
        "# Stage 1: Connecting to the Google Drive"
      ]
    },
    {
      "cell_type": "code",
      "execution_count": 46,
      "metadata": {
        "colab": {
          "base_uri": "https://localhost:8080/"
        },
        "id": "Xn8kWjOGSd-4",
        "outputId": "f97d516b-f0df-4e09-8dd3-34ae280b6a62"
      },
      "outputs": [
        {
          "output_type": "stream",
          "name": "stdout",
          "text": [
            "Mounted at /content/drive\n",
            "True\n",
            "True\n",
            "True\n"
          ]
        }
      ],
      "source": [
        "# Force Remount to account for Google Drive Reload Errors\n",
        "drive.mount('/content/drive', force_remount=True)\n",
        "\n",
        "#Checking Path is valid \n",
        "print(os.path.exists('/content/drive/MyDrive/DataSetAIAssignment/training'))\n",
        "print(os.path.exists('/content/drive/MyDrive/DataSetAIAssignment/test'))\n",
        "print(os.path.exists('/content/drive/MyDrive/DataSetAIAssignment/validation'))"
      ]
    },
    {
      "cell_type": "code",
      "execution_count": 49,
      "metadata": {
        "id": "fAt-Y_l5Vpfo"
      },
      "outputs": [],
      "source": [
        "# Main File Path\n",
        "base_dir = '/content/drive/MyDrive/DataSetAIAssignment/'\n",
        "\n",
        "# Setting Parent Folders\n",
        "train_dir = os.path.join(base_dir, 'training')\n",
        "validation_dir = os.path.join(base_dir, 'validation')\n",
        "test_dir = os.path.join(base_dir, 'test')\n",
        "\n",
        "# Setting Train Folders For Users\n",
        "train_CB_dir = os.path.join(train_dir, 'CB') # CB\n",
        "train_EF_dir = os.path.join(train_dir, 'EF') # EF\n",
        "train_JS_dir = os.path.join(train_dir, 'JS') # JS\n",
        "train_MB_dir = os.path.join(train_dir, 'MB') # MB\n",
        "train_RK_dir = os.path.join(train_dir, 'RK') # RK\n",
        "\n",
        "# Setting Validation Folders For Users\n",
        "validation_CB_dir = os.path.join(validation_dir, 'CB') # CB\n",
        "validation_EF_dir = os.path.join(validation_dir, 'EF') # EF\n",
        "validation_JS_dir = os.path.join(validation_dir, 'JS') # JS\n",
        "validation_MB_dir = os.path.join(validation_dir, 'MB') # MB\n",
        "validation_RK_dir = os.path.join(validation_dir, 'RK') # RK\n",
        "\n",
        "# Setting Test Folders For Users\n",
        "test_CB_dir = os.path.join(test_dir, 'CB') # CB\n",
        "test_EF_dir = os.path.join(test_dir, 'EF') # EF\n",
        "test_JS_dir = os.path.join(test_dir, 'JS') # JS\n",
        "test_MB_dir = os.path.join(test_dir, 'MB') # MB\n",
        "test_RK_dir = os.path.join(test_dir, 'RK') # RK\n"
      ]
    },
    {
      "cell_type": "markdown",
      "metadata": {
        "id": "irYBumRHCN6N"
      },
      "source": [
        "# Section 2: First Pass Of Iterations\n",
        "\n",
        "*   Assigning Batch Size\n",
        "*   Setting Image Size\n",
        "*   Creating VGG16 Base\n",
        "\n",
        "\n",
        "\n",
        "\n"
      ]
    },
    {
      "cell_type": "code",
      "execution_count": 51,
      "metadata": {
        "colab": {
          "base_uri": "https://localhost:8080/"
        },
        "id": "hFjzCopgZn6J",
        "outputId": "5d7a03e4-0162-418b-ddc8-c8d2fc30f809"
      },
      "outputs": [
        {
          "output_type": "stream",
          "name": "stdout",
          "text": [
            "Found 391 files belonging to 5 classes.\n",
            "Found 49 files belonging to 5 classes.\n",
            "Found 49 files belonging to 5 classes.\n"
          ]
        }
      ],
      "source": [
        "# Assigning Batches and Image Sizes \n",
        "# Image Sizes Allow For Size Consistency\n",
        "\n",
        "# Training Batches\n",
        "train_dataset = image_dataset_from_directory(\n",
        "    train_dir,\n",
        "    image_size=(180, 180),\n",
        "    batch_size=32)\n",
        "\n",
        "# Validation Batches\n",
        "validation_dataset = image_dataset_from_directory(\n",
        "    validation_dir,\n",
        "    image_size=(180, 180),\n",
        "    batch_size=32)\n",
        "\n",
        "# Testing Batches\n",
        "test_dataset = image_dataset_from_directory(\n",
        "    test_dir,\n",
        "    image_size=(180, 180),\n",
        "    batch_size=32)\n"
      ]
    },
    {
      "cell_type": "code",
      "execution_count": 55,
      "metadata": {
        "colab": {
          "base_uri": "https://localhost:8080/"
        },
        "id": "Kk_9yrME60sJ",
        "outputId": "d0fddcdf-eac0-4c94-bb1b-407c453c982a"
      },
      "outputs": [
        {
          "output_type": "stream",
          "name": "stdout",
          "text": [
            "Model: \"vgg16\"\n",
            "_________________________________________________________________\n",
            " Layer (type)                Output Shape              Param #   \n",
            "=================================================================\n",
            " input_20 (InputLayer)       [(None, 180, 180, 3)]     0         \n",
            "                                                                 \n",
            " block1_conv1 (Conv2D)       (None, 180, 180, 64)      1792      \n",
            "                                                                 \n",
            " block1_conv2 (Conv2D)       (None, 180, 180, 64)      36928     \n",
            "                                                                 \n",
            " block1_pool (MaxPooling2D)  (None, 90, 90, 64)        0         \n",
            "                                                                 \n",
            " block2_conv1 (Conv2D)       (None, 90, 90, 128)       73856     \n",
            "                                                                 \n",
            " block2_conv2 (Conv2D)       (None, 90, 90, 128)       147584    \n",
            "                                                                 \n",
            " block2_pool (MaxPooling2D)  (None, 45, 45, 128)       0         \n",
            "                                                                 \n",
            " block3_conv1 (Conv2D)       (None, 45, 45, 256)       295168    \n",
            "                                                                 \n",
            " block3_conv2 (Conv2D)       (None, 45, 45, 256)       590080    \n",
            "                                                                 \n",
            " block3_conv3 (Conv2D)       (None, 45, 45, 256)       590080    \n",
            "                                                                 \n",
            " block3_pool (MaxPooling2D)  (None, 22, 22, 256)       0         \n",
            "                                                                 \n",
            " block4_conv1 (Conv2D)       (None, 22, 22, 512)       1180160   \n",
            "                                                                 \n",
            " block4_conv2 (Conv2D)       (None, 22, 22, 512)       2359808   \n",
            "                                                                 \n",
            " block4_conv3 (Conv2D)       (None, 22, 22, 512)       2359808   \n",
            "                                                                 \n",
            " block4_pool (MaxPooling2D)  (None, 11, 11, 512)       0         \n",
            "                                                                 \n",
            " block5_conv1 (Conv2D)       (None, 11, 11, 512)       2359808   \n",
            "                                                                 \n",
            " block5_conv2 (Conv2D)       (None, 11, 11, 512)       2359808   \n",
            "                                                                 \n",
            " block5_conv3 (Conv2D)       (None, 11, 11, 512)       2359808   \n",
            "                                                                 \n",
            " block5_pool (MaxPooling2D)  (None, 5, 5, 512)         0         \n",
            "                                                                 \n",
            "=================================================================\n",
            "Total params: 14,714,688\n",
            "Trainable params: 14,714,688\n",
            "Non-trainable params: 0\n",
            "_________________________________________________________________\n"
          ]
        }
      ],
      "source": [
        "# Creating of the VGG16 Pre-Trained Neural Network\n",
        "\n",
        "# Weights State The Image Set That Should Be Used\n",
        "# input_shape should match image size and type used in batches\n",
        "conv_base = keras.applications.vgg16.VGG16(\n",
        "    weights=\"imagenet\",\n",
        "    include_top=False,\n",
        "    input_shape=(180, 180, 3),\n",
        "    pooling=None\n",
        ")\n",
        "# Prints A Summary For The User, Allows Model Checks \n",
        "conv_base.summary()"
      ]
    },
    {
      "cell_type": "code",
      "execution_count": 56,
      "metadata": {
        "colab": {
          "base_uri": "https://localhost:8080/"
        },
        "id": "jhhjPWqKGgcz",
        "outputId": "3f97ef73-acef-4dca-d15f-d4c83a6a757e"
      },
      "outputs": [
        {
          "output_type": "stream",
          "name": "stdout",
          "text": [
            "1/1 [==============================] - 0s 215ms/step\n",
            "1/1 [==============================] - 0s 63ms/step\n",
            "1/1 [==============================] - 0s 84ms/step\n",
            "1/1 [==============================] - 0s 55ms/step\n",
            "1/1 [==============================] - 0s 36ms/step\n",
            "1/1 [==============================] - 0s 30ms/step\n",
            "1/1 [==============================] - 0s 28ms/step\n",
            "1/1 [==============================] - 0s 23ms/step\n",
            "1/1 [==============================] - 0s 28ms/step\n",
            "1/1 [==============================] - 0s 26ms/step\n",
            "1/1 [==============================] - 0s 25ms/step\n",
            "1/1 [==============================] - 0s 25ms/step\n",
            "1/1 [==============================] - 0s 145ms/step\n",
            "1/1 [==============================] - 0s 25ms/step\n",
            "1/1 [==============================] - 0s 23ms/step\n",
            "1/1 [==============================] - 0s 38ms/step\n",
            "1/1 [==============================] - 0s 34ms/step\n"
          ]
        }
      ],
      "source": [
        "# Assigning labels \n",
        "def get_features_and_labels(dataset):\n",
        "    all_features = []\n",
        "    all_labels = []\n",
        "    for images, labels in dataset:\n",
        "        preprocessed_images = keras.applications.vgg16.preprocess_input(images)\n",
        "        features = conv_base.predict(preprocessed_images)\n",
        "        all_features.append(features)\n",
        "        all_labels.append(labels)\n",
        "    return np.concatenate(all_features), np.concatenate(all_labels)\n",
        "\n",
        "#Applying All Labels And Features To Each DataSet\n",
        "train_features, train_labels =  get_features_and_labels(train_dataset)\n",
        "val_features, val_labels =  get_features_and_labels(validation_dataset)\n",
        "test_features, test_labels =  get_features_and_labels(test_dataset)"
      ]
    },
    {
      "cell_type": "code",
      "execution_count": 57,
      "metadata": {
        "colab": {
          "base_uri": "https://localhost:8080/"
        },
        "id": "p246SFwFHde7",
        "outputId": "bee3ee0d-db28-4173-b408-02983a1856e7"
      },
      "outputs": [
        {
          "output_type": "stream",
          "name": "stdout",
          "text": [
            "Epoch 1/30\n",
            "13/13 [==============================] - 1s 27ms/step - loss: 12.9705 - accuracy: 0.7263 - val_loss: 7.8521 - val_accuracy: 0.9184\n",
            "Epoch 2/30\n",
            "13/13 [==============================] - 0s 13ms/step - loss: 6.5268 - accuracy: 0.9668 - val_loss: 7.2762 - val_accuracy: 0.8776\n",
            "Epoch 3/30\n",
            "13/13 [==============================] - 0s 13ms/step - loss: 5.7596 - accuracy: 0.9770 - val_loss: 7.1328 - val_accuracy: 0.8980\n",
            "Epoch 4/30\n",
            "13/13 [==============================] - 0s 13ms/step - loss: 4.9219 - accuracy: 0.9974 - val_loss: 6.8649 - val_accuracy: 0.8980\n",
            "Epoch 5/30\n",
            "13/13 [==============================] - 0s 7ms/step - loss: 4.3866 - accuracy: 0.9923 - val_loss: 7.7955 - val_accuracy: 0.8776\n",
            "Epoch 6/30\n",
            "13/13 [==============================] - 0s 16ms/step - loss: 3.5754 - accuracy: 0.9949 - val_loss: 4.8871 - val_accuracy: 0.8776\n",
            "Epoch 7/30\n",
            "13/13 [==============================] - 0s 20ms/step - loss: 2.9989 - accuracy: 0.9872 - val_loss: 4.7686 - val_accuracy: 0.8776\n",
            "Epoch 8/30\n",
            "13/13 [==============================] - 0s 18ms/step - loss: 2.4211 - accuracy: 0.9949 - val_loss: 4.7106 - val_accuracy: 0.9184\n",
            "Epoch 9/30\n",
            "13/13 [==============================] - 0s 18ms/step - loss: 3.3253 - accuracy: 0.9412 - val_loss: 3.9109 - val_accuracy: 0.9184\n",
            "Epoch 10/30\n",
            "13/13 [==============================] - 0s 9ms/step - loss: 1.8867 - accuracy: 0.9923 - val_loss: 4.7296 - val_accuracy: 0.8980\n",
            "Epoch 11/30\n",
            "13/13 [==============================] - 0s 10ms/step - loss: 1.7624 - accuracy: 0.9872 - val_loss: 3.9857 - val_accuracy: 0.8776\n",
            "Epoch 12/30\n",
            "13/13 [==============================] - 0s 10ms/step - loss: 1.4596 - accuracy: 0.9974 - val_loss: 4.9229 - val_accuracy: 0.8776\n",
            "Epoch 13/30\n",
            "13/13 [==============================] - 0s 9ms/step - loss: 1.4267 - accuracy: 0.9872 - val_loss: 4.6434 - val_accuracy: 0.8571\n",
            "Epoch 14/30\n",
            "13/13 [==============================] - 0s 18ms/step - loss: 1.2329 - accuracy: 0.9949 - val_loss: 3.8142 - val_accuracy: 0.8980\n",
            "Epoch 15/30\n",
            "13/13 [==============================] - 0s 17ms/step - loss: 1.2747 - accuracy: 0.9770 - val_loss: 2.7095 - val_accuracy: 0.8980\n",
            "Epoch 16/30\n",
            "13/13 [==============================] - 0s 18ms/step - loss: 1.0266 - accuracy: 0.9949 - val_loss: 2.4713 - val_accuracy: 0.8776\n",
            "Epoch 17/30\n",
            "13/13 [==============================] - 0s 10ms/step - loss: 0.9157 - accuracy: 1.0000 - val_loss: 2.6297 - val_accuracy: 0.8980\n",
            "Epoch 18/30\n",
            "13/13 [==============================] - 0s 20ms/step - loss: 0.9639 - accuracy: 0.9821 - val_loss: 1.9678 - val_accuracy: 0.8980\n",
            "Epoch 19/30\n",
            "13/13 [==============================] - 0s 11ms/step - loss: 0.7760 - accuracy: 1.0000 - val_loss: 2.2450 - val_accuracy: 0.8571\n",
            "Epoch 20/30\n",
            "13/13 [==============================] - 0s 17ms/step - loss: 0.9123 - accuracy: 0.9795 - val_loss: 1.8130 - val_accuracy: 0.8980\n",
            "Epoch 21/30\n",
            "13/13 [==============================] - 0s 9ms/step - loss: 0.7913 - accuracy: 0.9898 - val_loss: 2.5145 - val_accuracy: 0.8571\n",
            "Epoch 22/30\n",
            "13/13 [==============================] - 0s 9ms/step - loss: 0.6667 - accuracy: 0.9974 - val_loss: 2.2418 - val_accuracy: 0.8980\n",
            "Epoch 23/30\n",
            "13/13 [==============================] - 0s 9ms/step - loss: 0.6120 - accuracy: 0.9974 - val_loss: 4.2779 - val_accuracy: 0.8163\n",
            "Epoch 24/30\n",
            "13/13 [==============================] - 0s 10ms/step - loss: 0.6591 - accuracy: 0.9923 - val_loss: 2.4472 - val_accuracy: 0.8980\n",
            "Epoch 25/30\n",
            "13/13 [==============================] - 0s 10ms/step - loss: 0.5047 - accuracy: 0.9974 - val_loss: 2.4389 - val_accuracy: 0.8776\n"
          ]
        }
      ],
      "source": [
        "# Applying Layers to the Model\n",
        "# Helps to Prevent OverFitting\n",
        "# Can Fine Tune By Adjusting Layers\n",
        "\n",
        "inputs = keras.Input(shape=(5, 5, 512))\n",
        "x = layers.Flatten()(inputs)\n",
        "x = layers.Dense(256, activation=\"relu\", kernel_regularizer=regularizers.l2(0.01))(x)\n",
        "x = layers.Dense(128, activation=\"relu\", kernel_regularizer=regularizers.l2(0.01))(x)\n",
        "x = layers.Dense(64, activation=\"relu\", kernel_regularizer=regularizers.l2(0.01))(x)\n",
        "x = layers.Dropout(0.2)(x)    \n",
        "\n",
        "outputs = layers.Dense(5, activation=\"softmax\")(x)\n",
        "model = keras.Model(inputs, outputs)\n",
        "model.compile(loss=\"sparse_categorical_crossentropy\",\n",
        "              optimizer=\"rmsprop\",\n",
        "              metrics=[\"accuracy\"])\n",
        "\n",
        "\n",
        "learning_rate = 0.001  # Change this value to your desired learning rate\n",
        "optimizer = keras.optimizers.RMSprop(learning_rate=learning_rate)\n",
        "\n",
        "\n",
        "# Define the EarlyStopping callback\n",
        "early_stopping = keras.callbacks.EarlyStopping(\n",
        "    monitor='val_loss',  # Metric to monitor\n",
        "    patience=5,           # Number of epochs with no improvement before stopping\n",
        "    restore_best_weights=True  # Restore the weights of the best epoch\n",
        ")\n",
        "\n",
        "# Fitting the Features And Labels From the VGG16 Model\n",
        "callbacks = [\n",
        "    keras.callbacks.ModelCheckpoint(\n",
        "        filepath=\"feature_extraction.keras\",\n",
        "        save_best_only=True,\n",
        "        monitor=\"val_loss\"),\n",
        "    early_stopping  # Add the early stopping callback\n",
        "]\n",
        "\n",
        "# Can Adjust epochs To Refine Model\n",
        "# 20 Chosen as visualisation graph levels out at around pass 15\n",
        "history = model.fit(\n",
        "    train_features, train_labels,\n",
        "    epochs=30,\n",
        "    validation_data=(val_features, val_labels),\n",
        "    callbacks=callbacks)"
      ]
    },
    {
      "cell_type": "code",
      "execution_count": 58,
      "metadata": {
        "colab": {
          "base_uri": "https://localhost:8080/",
          "height": 887
        },
        "id": "ETvZoUxkCTBy",
        "outputId": "5bc3c571-1eea-44b5-eb3a-1102be9e4c5d"
      },
      "outputs": [
        {
          "output_type": "display_data",
          "data": {
            "text/plain": [
              "<Figure size 640x480 with 1 Axes>"
            ],
            "image/png": "[encoded data removed]"
          },
          "metadata": {}
        },
        {
          "output_type": "display_data",
          "data": {
            "text/plain": [
              "<Figure size 640x480 with 1 Axes>"
            ],
            "image/png": "[encoded data removed]"
          },
          "metadata": {}
        }
      ],
      "source": [
        "# Generating Visualisation of the Passes\n",
        "# Allows assessment of training \n",
        "\n",
        "# Poor accuracy or high loss could indicate a need to adjust the layers, parameters or review the data samples\n",
        "acc = history.history[\"accuracy\"]\n",
        "val_acc = history.history[\"val_accuracy\"]\n",
        "loss = history.history[\"loss\"]\n",
        "val_loss = history.history[\"val_loss\"]\n",
        "epochs = range(1, len(acc) + 1)\n",
        "plt.plot(epochs, acc, \"bo\", label=\"Training accuracy\")\n",
        "plt.plot(epochs, val_acc, \"b\", label=\"Validation accuracy\")\n",
        "plt.title(\"Training and validation accuracy\")\n",
        "plt.legend()\n",
        "plt.figure()\n",
        "plt.plot(epochs, loss, \"bo\", label=\"Training loss\")\n",
        "plt.plot(epochs, val_loss, \"b\", label=\"Validation loss\")\n",
        "plt.title(\"Training and validation loss\")\n",
        "plt.legend()\n",
        "plt.show()"
      ]
    },
    {
      "cell_type": "markdown",
      "metadata": {
        "id": "UQ_uWrnS-ZAA"
      },
      "source": [
        "# Section 3: Further Refinement and Second Set of Iterations\n",
        "\n",
        "*   Freezing the Base VGG16 Model\n",
        "*   Adding Image Transformation (Augmentation)\n",
        "\n"
      ]
    },
    {
      "cell_type": "code",
      "execution_count": 59,
      "metadata": {
        "id": "uHIdsDFMHlEj"
      },
      "outputs": [],
      "source": [
        "# Re-initialising the VGG16 Model \n",
        "# This time bases are frozen, prevents overwriting of previous work\n",
        "\n",
        "conv_base  = keras.applications.vgg16.VGG16(\n",
        "    weights=\"imagenet\",\n",
        "    include_top=False)\n",
        "conv_base.trainable = False"
      ]
    },
    {
      "cell_type": "code",
      "execution_count": 60,
      "metadata": {
        "colab": {
          "base_uri": "https://localhost:8080/"
        },
        "id": "QACgTMcTHqTL",
        "outputId": "61867fcd-0f6c-4adf-f301-c9208e3fe8ab"
      },
      "outputs": [
        {
          "output_type": "stream",
          "name": "stdout",
          "text": [
            "This is the number of trainable weights before freezing the conv base: 26\n",
            "This is the number of trainable weights after freezing the conv base: 0\n"
          ]
        }
      ],
      "source": [
        "# THis shows to the author the effect of the freezing \n",
        "# If values are the same then the model has not be frozen and should be reviewed before continuing\n",
        "conv_base.trainable = True\n",
        "print(\"This is the number of trainable weights \"\n",
        "      \"before freezing the conv base:\", len(conv_base.trainable_weights))\n",
        "\n",
        "conv_base.trainable = False\n",
        "print(\"This is the number of trainable weights \"\n",
        "      \"after freezing the conv base:\", len(conv_base.trainable_weights))"
      ]
    },
    {
      "cell_type": "code",
      "execution_count": 61,
      "metadata": {
        "id": "lp8kri_RCTBz"
      },
      "outputs": [],
      "source": [
        "# Applying image transformations \n",
        "\n",
        "# Allows to artifically grow the dataset\n",
        "# Applying image transformations \n",
        "# Allows to artifically grow the dataset\n",
        "# Can adjust results by changing types of transformations and parameters\n",
        "data_augmentation = keras.Sequential(\n",
        "    [\n",
        "        layers.RandomFlip(\"horizontal\"),\n",
        "        layers.RandomRotation(0.1),\n",
        "        layers.RandomZoom(0.2),\n",
        "    ]\n",
        ")\n",
        "\n",
        "# Adding layers\n",
        "# Can add more layers if needed to fine tune\n",
        "# Same as previous method\n",
        "inputs = keras.Input(shape=(180, 180, 3))\n",
        "x = data_augmentation(inputs)\n",
        "x = keras.applications.vgg16.preprocess_input(x)\n",
        "x = conv_base(x)\n",
        "x = layers.Flatten()(x)\n",
        "x = layers.Dense(256, activation=\"relu\", kernel_regularizer=regularizers.l2(0.01))(x)\n",
        "x = layers.Dense(128, activation=\"relu\", kernel_regularizer=regularizers.l2(0.01))(x)\n",
        "x = layers.Dense(64, activation=\"relu\", kernel_regularizer=regularizers.l2(0.01))(x)\n",
        "x = layers.Dropout(0.5)(x) \n",
        "outputs = layers.Dense(5, activation=\"softmax\")(x)\n",
        "model = keras.Model(inputs, outputs)\n",
        "model.compile(loss=\"sparse_categorical_crossentropy\",\n",
        "              optimizer=\"rmsprop\",\n",
        "              metrics=[\"accuracy\"])\n",
        "\n",
        "\n"
      ]
    },
    {
      "cell_type": "code",
      "execution_count": 62,
      "metadata": {
        "colab": {
          "base_uri": "https://localhost:8080/"
        },
        "id": "ZMpGk0dAHzo7",
        "outputId": "2b103769-f122-42dc-de04-3b8725943098"
      },
      "outputs": [
        {
          "output_type": "stream",
          "name": "stdout",
          "text": [
            "Model: \"model_16\"\n",
            "_________________________________________________________________\n",
            " Layer (type)                Output Shape              Param #   \n",
            "=================================================================\n",
            " input_23 (InputLayer)       [(None, 180, 180, 3)]     0         \n",
            "                                                                 \n",
            " sequential_1 (Sequential)   (None, 180, 180, 3)       0         \n",
            "                                                                 \n",
            " tf.__operators__.getitem_1   (None, 180, 180, 3)      0         \n",
            " (SlicingOpLambda)                                               \n",
            "                                                                 \n",
            " tf.nn.bias_add_1 (TFOpLambd  (None, 180, 180, 3)      0         \n",
            " a)                                                              \n",
            "                                                                 \n",
            " vgg16 (Functional)          (None, None, None, 512)   14714688  \n",
            "                                                                 \n",
            " flatten_18 (Flatten)        (None, 12800)             0         \n",
            "                                                                 \n",
            " dense_67 (Dense)            (None, 256)               3277056   \n",
            "                                                                 \n",
            " dense_68 (Dense)            (None, 128)               32896     \n",
            "                                                                 \n",
            " dense_69 (Dense)            (None, 64)                8256      \n",
            "                                                                 \n",
            " dropout_18 (Dropout)        (None, 64)                0         \n",
            "                                                                 \n",
            " dense_70 (Dense)            (None, 5)                 325       \n",
            "                                                                 \n",
            "=================================================================\n",
            "Total params: 18,033,221\n",
            "Trainable params: 3,318,533\n",
            "Non-trainable params: 14,714,688\n",
            "_________________________________________________________________\n"
          ]
        }
      ],
      "source": [
        "# Prints a model summary, allows for user to check accuracy \n",
        "model.summary()"
      ]
    },
    {
      "cell_type": "code",
      "execution_count": 65,
      "metadata": {
        "colab": {
          "base_uri": "https://localhost:8080/"
        },
        "id": "99DAyM-rH4cL",
        "outputId": "acc50a47-4fdb-4a7a-dc62-f2a6dcc1a1f5"
      },
      "outputs": [
        {
          "output_type": "stream",
          "name": "stdout",
          "text": [
            "Epoch 1/30\n",
            "13/13 [==============================] - 16s 458ms/step - loss: 0.9261 - accuracy: 0.9719 - val_loss: 1.5694 - val_accuracy: 0.8776\n",
            "Epoch 2/30\n",
            "13/13 [==============================] - 16s 535ms/step - loss: 0.8374 - accuracy: 0.9795 - val_loss: 1.6820 - val_accuracy: 0.9388\n",
            "Epoch 3/30\n",
            "13/13 [==============================] - 15s 432ms/step - loss: 0.7814 - accuracy: 0.9744 - val_loss: 2.5759 - val_accuracy: 0.8367\n",
            "Epoch 4/30\n",
            "13/13 [==============================] - 15s 450ms/step - loss: 0.8035 - accuracy: 0.9744 - val_loss: 1.5139 - val_accuracy: 0.9184\n",
            "Epoch 5/30\n",
            "13/13 [==============================] - 15s 427ms/step - loss: 0.6980 - accuracy: 0.9872 - val_loss: 1.7042 - val_accuracy: 0.9184\n",
            "Epoch 6/30\n",
            "13/13 [==============================] - 16s 453ms/step - loss: 0.7173 - accuracy: 0.9821 - val_loss: 1.5098 - val_accuracy: 0.9184\n",
            "Epoch 7/30\n",
            "13/13 [==============================] - 15s 528ms/step - loss: 0.7632 - accuracy: 0.9693 - val_loss: 2.0750 - val_accuracy: 0.8980\n",
            "Epoch 8/30\n",
            "13/13 [==============================] - 16s 479ms/step - loss: 0.6512 - accuracy: 0.9821 - val_loss: 1.7484 - val_accuracy: 0.9184\n",
            "Epoch 9/30\n",
            "13/13 [==============================] - 16s 534ms/step - loss: 0.5816 - accuracy: 0.9872 - val_loss: 1.6624 - val_accuracy: 0.8776\n",
            "Epoch 10/30\n",
            "13/13 [==============================] - 16s 580ms/step - loss: 0.6808 - accuracy: 0.9744 - val_loss: 1.4245 - val_accuracy: 0.9184\n",
            "Epoch 11/30\n",
            "13/13 [==============================] - 15s 432ms/step - loss: 0.5311 - accuracy: 0.9923 - val_loss: 1.6485 - val_accuracy: 0.8980\n",
            "Epoch 12/30\n",
            "13/13 [==============================] - 15s 579ms/step - loss: 0.7205 - accuracy: 0.9540 - val_loss: 0.9555 - val_accuracy: 0.9184\n",
            "Epoch 13/30\n",
            "13/13 [==============================] - 16s 571ms/step - loss: 0.5279 - accuracy: 0.9898 - val_loss: 1.0789 - val_accuracy: 0.9184\n",
            "Epoch 14/30\n",
            "13/13 [==============================] - 15s 431ms/step - loss: 0.5224 - accuracy: 0.9744 - val_loss: 1.0290 - val_accuracy: 0.9388\n",
            "Epoch 15/30\n",
            "13/13 [==============================] - 17s 543ms/step - loss: 0.5839 - accuracy: 0.9770 - val_loss: 0.8606 - val_accuracy: 0.9184\n",
            "Epoch 16/30\n",
            "13/13 [==============================] - 15s 487ms/step - loss: 0.4489 - accuracy: 0.9872 - val_loss: 0.9976 - val_accuracy: 0.9184\n",
            "Epoch 17/30\n",
            "13/13 [==============================] - 16s 518ms/step - loss: 0.4967 - accuracy: 0.9744 - val_loss: 0.9085 - val_accuracy: 0.9388\n",
            "Epoch 18/30\n",
            "13/13 [==============================] - 16s 496ms/step - loss: 0.3586 - accuracy: 0.9974 - val_loss: 1.0904 - val_accuracy: 0.8980\n",
            "Epoch 19/30\n",
            "13/13 [==============================] - 16s 514ms/step - loss: 0.3881 - accuracy: 0.9770 - val_loss: 1.5982 - val_accuracy: 0.8980\n",
            "Epoch 20/30\n",
            "13/13 [==============================] - 16s 451ms/step - loss: 0.3651 - accuracy: 0.9949 - val_loss: 1.4541 - val_accuracy: 0.8980\n"
          ]
        }
      ],
      "source": [
        "# Fitting the Features And Labels From the VGG16 Model\n",
        "callbacks = [\n",
        "    keras.callbacks.ModelCheckpoint(\n",
        "        filepath=\"feature_extraction_with_data_augmentation.keras\",\n",
        "        save_best_only=True,\n",
        "        monitor=\"val_loss\"\n",
        "    ),\n",
        "    EarlyStopping(\n",
        "        monitor=\"val_loss\",\n",
        "        patience=5,  # Number of epochs with no improvement after which training will be stopped\n",
        "        restore_best_weights=True\n",
        "    )\n",
        "]\n",
        "\n",
        "# Can Adjust epochs To Refine Model\n",
        "# 20 Chosen as visualisation graph levels out at around pass 15\n",
        "history = model.fit(\n",
        "    train_dataset,\n",
        "    epochs=30,\n",
        "    validation_data=validation_dataset,\n",
        "    callbacks=callbacks)\n",
        "\n"
      ]
    },
    {
      "cell_type": "code",
      "execution_count": 66,
      "metadata": {
        "colab": {
          "base_uri": "https://localhost:8080/",
          "height": 887
        },
        "id": "sVz_r4G_H79L",
        "outputId": "d1bf7dd6-596e-4f39-cea3-946cf1f74afa"
      },
      "outputs": [
        {
          "output_type": "display_data",
          "data": {
            "text/plain": [
              "<Figure size 640x480 with 1 Axes>"
            ],
            "image/png": "[encoded data removed]"
          },
          "metadata": {}
        },
        {
          "output_type": "display_data",
          "data": {
            "text/plain": [
              "<Figure size 640x480 with 1 Axes>"
            ],
            "image/png": "[encoded data removed]"
          },
          "metadata": {}
        }
      ],
      "source": [
        "# Generating Visualisation of the Passes\n",
        "# Allows assessment of training \n",
        "\n",
        "# Poor accuracy or high loss could indicate a need to adjust the layers, parameters or review the data samples\n",
        "\n",
        "import matplotlib.pyplot as plt\n",
        "acc = history.history[\"accuracy\"]\n",
        "val_acc = history.history[\"val_accuracy\"]\n",
        "loss = history.history[\"loss\"]\n",
        "val_loss = history.history[\"val_loss\"]\n",
        "epochs = range(1, len(acc) + 1)\n",
        "plt.plot(epochs, acc, \"bo\", label=\"Training accuracy\")\n",
        "plt.plot(epochs, val_acc, \"b\", label=\"Validation accuracy\")\n",
        "plt.title(\"Training and validation accuracy\")\n",
        "plt.legend()\n",
        "plt.figure()\n",
        "plt.plot(epochs, loss, \"bo\", label=\"Training loss\")\n",
        "plt.plot(epochs, val_loss, \"b\", label=\"Validation loss\")\n",
        "plt.title(\"Training and validation loss\")\n",
        "plt.legend()\n",
        "plt.show()"
      ]
    },
    {
      "cell_type": "code",
      "execution_count": 67,
      "metadata": {
        "colab": {
          "base_uri": "https://localhost:8080/"
        },
        "id": "niDuFivXH8pL",
        "outputId": "486c923b-07f8-4118-ef9b-22e68a564a9e"
      },
      "outputs": [
        {
          "output_type": "stream",
          "name": "stdout",
          "text": [
            "2/2 [==============================] - 2s 109ms/step - loss: 1.3921 - accuracy: 0.8776\n",
            "Test accuracy: 0.878\n"
          ]
        }
      ],
      "source": [
        "# Finding the accuracy of the current model\n",
        "\n",
        "test_model = keras.models.load_model(\n",
        "    \"feature_extraction_with_data_augmentation.keras\")\n",
        "test_loss, test_acc = test_model.evaluate(test_dataset)\n",
        "print(f\"Test accuracy: {test_acc:.3f}\")"
      ]
    },
    {
      "cell_type": "markdown",
      "source": [
        "# Section 4: Final Interations and Fine Tuning\n",
        "\n",
        "\n",
        "*   Un-Freezing Layers\n",
        "*   Freezing Last Four Layers\n",
        "\n"
      ],
      "metadata": {
        "id": "hjr6FhcN7mme"
      }
    },
    {
      "cell_type": "code",
      "execution_count": 68,
      "metadata": {
        "id": "mE3SE7XUH_tr"
      },
      "outputs": [],
      "source": [
        "# Setting to true unfreezes all the previous frozen layers\n",
        "# Removes the last four layers from being trainable\n",
        "# Allows training for general features without removing all progress so far\n",
        "\n",
        "conv_base.trainable = True\n",
        "for layer in conv_base.layers[:-4]:\n",
        "    layer.trainable = False"
      ]
    },
    {
      "cell_type": "code",
      "execution_count": 69,
      "metadata": {
        "colab": {
          "base_uri": "https://localhost:8080/"
        },
        "id": "KgA1ZierPq33",
        "outputId": "3ead16be-2dd9-4ba6-a061-efff189b8a76"
      },
      "outputs": [
        {
          "output_type": "stream",
          "name": "stdout",
          "text": [
            "Model: \"vgg16\"\n",
            "_________________________________________________________________\n",
            " Layer (type)                Output Shape              Param #   \n",
            "=================================================================\n",
            " input_22 (InputLayer)       [(None, None, None, 3)]   0         \n",
            "                                                                 \n",
            " block1_conv1 (Conv2D)       (None, None, None, 64)    1792      \n",
            "                                                                 \n",
            " block1_conv2 (Conv2D)       (None, None, None, 64)    36928     \n",
            "                                                                 \n",
            " block1_pool (MaxPooling2D)  (None, None, None, 64)    0         \n",
            "                                                                 \n",
            " block2_conv1 (Conv2D)       (None, None, None, 128)   73856     \n",
            "                                                                 \n",
            " block2_conv2 (Conv2D)       (None, None, None, 128)   147584    \n",
            "                                                                 \n",
            " block2_pool (MaxPooling2D)  (None, None, None, 128)   0         \n",
            "                                                                 \n",
            " block3_conv1 (Conv2D)       (None, None, None, 256)   295168    \n",
            "                                                                 \n",
            " block3_conv2 (Conv2D)       (None, None, None, 256)   590080    \n",
            "                                                                 \n",
            " block3_conv3 (Conv2D)       (None, None, None, 256)   590080    \n",
            "                                                                 \n",
            " block3_pool (MaxPooling2D)  (None, None, None, 256)   0         \n",
            "                                                                 \n",
            " block4_conv1 (Conv2D)       (None, None, None, 512)   1180160   \n",
            "                                                                 \n",
            " block4_conv2 (Conv2D)       (None, None, None, 512)   2359808   \n",
            "                                                                 \n",
            " block4_conv3 (Conv2D)       (None, None, None, 512)   2359808   \n",
            "                                                                 \n",
            " block4_pool (MaxPooling2D)  (None, None, None, 512)   0         \n",
            "                                                                 \n",
            " block5_conv1 (Conv2D)       (None, None, None, 512)   2359808   \n",
            "                                                                 \n",
            " block5_conv2 (Conv2D)       (None, None, None, 512)   2359808   \n",
            "                                                                 \n",
            " block5_conv3 (Conv2D)       (None, None, None, 512)   2359808   \n",
            "                                                                 \n",
            " block5_pool (MaxPooling2D)  (None, None, None, 512)   0         \n",
            "                                                                 \n",
            "=================================================================\n",
            "Total params: 14,714,688\n",
            "Trainable params: 7,079,424\n",
            "Non-trainable params: 7,635,264\n",
            "_________________________________________________________________\n"
          ]
        }
      ],
      "source": [
        "# Building a summary of the current model\n",
        "conv_base.summary()"
      ]
    },
    {
      "cell_type": "code",
      "execution_count": 70,
      "metadata": {
        "colab": {
          "base_uri": "https://localhost:8080/"
        },
        "id": "IXoht-waIHTr",
        "outputId": "3d499f8d-3937-4e1e-c0a6-0d74653331b8"
      },
      "outputs": [
        {
          "output_type": "stream",
          "name": "stdout",
          "text": [
            "Epoch 1/30\n",
            "13/13 [==============================] - 24s 722ms/step - loss: 0.4452 - accuracy: 0.9872 - val_loss: 1.0746 - val_accuracy: 0.9184\n",
            "Epoch 2/30\n",
            "13/13 [==============================] - 16s 539ms/step - loss: 0.4216 - accuracy: 0.9949 - val_loss: 1.1281 - val_accuracy: 0.9184\n",
            "Epoch 3/30\n",
            "13/13 [==============================] - 16s 450ms/step - loss: 0.4100 - accuracy: 0.9974 - val_loss: 1.2079 - val_accuracy: 0.8980\n",
            "Epoch 4/30\n",
            "13/13 [==============================] - 16s 469ms/step - loss: 0.4122 - accuracy: 0.9974 - val_loss: 1.0721 - val_accuracy: 0.9184\n",
            "Epoch 5/30\n",
            "13/13 [==============================] - 15s 441ms/step - loss: 0.4053 - accuracy: 1.0000 - val_loss: 1.1363 - val_accuracy: 0.9184\n",
            "Epoch 6/30\n",
            "13/13 [==============================] - 16s 490ms/step - loss: 0.4021 - accuracy: 1.0000 - val_loss: 1.3297 - val_accuracy: 0.8980\n",
            "Epoch 7/30\n",
            "13/13 [==============================] - 16s 501ms/step - loss: 0.4069 - accuracy: 0.9974 - val_loss: 1.3390 - val_accuracy: 0.9184\n",
            "Epoch 8/30\n",
            "13/13 [==============================] - 16s 507ms/step - loss: 0.3974 - accuracy: 1.0000 - val_loss: 1.2982 - val_accuracy: 0.9184\n",
            "Epoch 9/30\n",
            "13/13 [==============================] - 15s 509ms/step - loss: 0.4129 - accuracy: 0.9949 - val_loss: 1.2986 - val_accuracy: 0.8776\n"
          ]
        }
      ],
      "source": [
        "# Compiling the final model before running the fitting process\n",
        "# Can adjust the custom learning rate to fine tweak model\n",
        "# Can adjust the epochs to fine tune the model\n",
        "\n",
        "model.compile(loss=\"sparse_categorical_crossentropy\",\n",
        "              optimizer=keras.optimizers.RMSprop(learning_rate=1e-5),\n",
        "              metrics=[\"accuracy\"])\n",
        "\n",
        "callbacks = [\n",
        "    keras.callbacks.ModelCheckpoint(\n",
        "        filepath=\"fine_tuning.keras\",\n",
        "        save_best_only=True,\n",
        "        monitor=\"val_loss\"\n",
        "    ),\n",
        "    EarlyStopping(\n",
        "        monitor=\"val_loss\",\n",
        "        patience=5,  # Number of epochs with no improvement after which training will be stopped\n",
        "        restore_best_weights=True\n",
        "    )\n",
        "]\n",
        "\n",
        "# Can Adjust epochs To Refine Model\n",
        "# 20 Chosen as visualisation graph levels out at around pass 15\n",
        "history = model.fit(\n",
        "    train_dataset,\n",
        "    epochs=30,\n",
        "    validation_data=validation_dataset,\n",
        "    callbacks=callbacks)\n",
        "\n"
      ]
    },
    {
      "cell_type": "code",
      "execution_count": 71,
      "metadata": {
        "colab": {
          "base_uri": "https://localhost:8080/",
          "height": 887
        },
        "id": "GVXZbbnHIHvT",
        "outputId": "08a84e15-a485-44fa-cf5c-234e29212e71"
      },
      "outputs": [
        {
          "output_type": "display_data",
          "data": {
            "text/plain": [
              "<Figure size 640x480 with 1 Axes>"
            ],
            "image/png": "[encoded data removed]"
          },
          "metadata": {}
        },
        {
          "output_type": "display_data",
          "data": {
            "text/plain": [
              "<Figure size 640x480 with 1 Axes>"
            ],
            "image/png": "[encoded data removed]"
          },
          "metadata": {}
        }
      ],
      "source": [
        "# Generating Visualisation of the Passes\n",
        "# Allows assessment of training \n",
        "\n",
        "# Poor accuracy or high loss could indicate a need to adjust the layers, parameters or review the data samples\n",
        "import matplotlib.pyplot as plt\n",
        "acc = history.history[\"accuracy\"]\n",
        "val_acc = history.history[\"val_accuracy\"]\n",
        "loss = history.history[\"loss\"]\n",
        "val_loss = history.history[\"val_loss\"]\n",
        "epochs = range(1, len(acc) + 1)\n",
        "plt.plot(epochs, acc, \"bo\", label=\"Training accuracy\")\n",
        "plt.plot(epochs, val_acc, \"b\", label=\"Validation accuracy\")\n",
        "plt.title(\"Training and validation accuracy\")\n",
        "plt.legend()\n",
        "plt.figure()\n",
        "plt.plot(epochs, loss, \"bo\", label=\"Training loss\")\n",
        "plt.plot(epochs, val_loss, \"b\", label=\"Validation loss\")\n",
        "plt.title(\"Training and validation loss\")\n",
        "plt.legend()\n",
        "plt.show()"
      ]
    },
    {
      "cell_type": "code",
      "execution_count": 72,
      "metadata": {
        "colab": {
          "base_uri": "https://localhost:8080/"
        },
        "id": "qwI2w9L3IJty",
        "outputId": "5274094a-0c55-458b-e700-fdeef7e5a4b4"
      },
      "outputs": [
        {
          "output_type": "stream",
          "name": "stdout",
          "text": [
            "2/2 [==============================] - 3s 109ms/step - loss: 1.3835 - accuracy: 0.8776\n",
            "Test accuracy: 0.878\n"
          ]
        }
      ],
      "source": [
        "# Final accuracy assessment fo total model\n",
        "\n",
        "model = keras.models.load_model(\"fine_tuning.keras\")\n",
        "test_loss, test_acc = model.evaluate(test_dataset)\n",
        "print(f\"Test accuracy: {test_acc:.3f}\")"
      ]
    },
    {
      "cell_type": "markdown",
      "source": [
        "# Section 5: Downloading the Data Set"
      ],
      "metadata": {
        "id": "FDRo6_wfON7e"
      }
    },
    {
      "cell_type": "code",
      "source": [
        "# Comment Out When Not Using\n",
        "\n",
        "#from google.colab import drive\n",
        "#from google.colab import files\n",
        "\n",
        "#model.save('/content/model.h5')\n",
        "\n",
        "#feature_extraction = '/content/feature_extraction.keras'\n",
        "#feature_extraction_with_data_aug = '/content/feature_extraction_with_data_augmentation.keras'\n",
        "#fine_tuning = '/content/fine_tuning.keras'\n",
        "\n",
        "#files.download(feature_extraction)\n",
        "#files.download(feature_extraction_with_data_aug)\n",
        "#files.download(fine_tuning)\n",
        "#files.download('/content/model.h5')"
      ],
      "metadata": {
        "colab": {
          "base_uri": "https://localhost:8080/",
          "height": 17
        },
        "id": "RaPYgo0ROokF",
        "outputId": "2ff5d620-8c61-4165-9996-5dac490c30c4"
      },
      "execution_count": null,
      "outputs": [
        {
          "output_type": "display_data",
          "data": {
            "text/plain": [
              "<IPython.core.display.Javascript object>"
            ],
            "application/javascript": [
              "\n",
              "    async function download(id, filename, size) {\n",
              "      if (!google.colab.kernel.accessAllowed) {\n",
              "        return;\n",
              "      }\n",
              "      const div = document.createElement('div');\n",
              "      const label = document.createElement('label');\n",
              "      label.textContent = `Downloading \"${filename}\": `;\n",
              "      div.appendChild(label);\n",
              "      const progress = document.createElement('progress');\n",
              "      progress.max = size;\n",
              "      div.appendChild(progress);\n",
              "      document.body.appendChild(div);\n",
              "\n",
              "      const buffers = [];\n",
              "      let downloaded = 0;\n",
              "\n",
              "      const channel = await google.colab.kernel.comms.open(id);\n",
              "      // Send a message to notify the kernel that we're ready.\n",
              "      channel.send({})\n",
              "\n",
              "      for await (const message of channel.messages) {\n",
              "        // Send a message to notify the kernel that we're ready.\n",
              "        channel.send({})\n",
              "        if (message.buffers) {\n",
              "          for (const buffer of message.buffers) {\n",
              "            buffers.push(buffer);\n",
              "            downloaded += buffer.byteLength;\n",
              "            progress.value = downloaded;\n",
              "          }\n",
              "        }\n",
              "      }\n",
              "      const blob = new Blob(buffers, {type: 'application/binary'});\n",
              "      const a = document.createElement('a');\n",
              "      a.href = window.URL.createObjectURL(blob);\n",
              "      a.download = filename;\n",
              "      div.appendChild(a);\n",
              "      a.click();\n",
              "      div.remove();\n",
              "    }\n",
              "  "
            ]
          },
          "metadata": {}
        },
        {
          "output_type": "display_data",
          "data": {
            "text/plain": [
              "<IPython.core.display.Javascript object>"
            ],
            "application/javascript": [
              "download(\"download_ed4e1c20-1597-4ce5-ace4-700c21adc05a\", \"feature_extraction.keras\", 26254440)"
            ]
          },
          "metadata": {}
        },
        {
          "output_type": "display_data",
          "data": {
            "text/plain": [
              "<IPython.core.display.Javascript object>"
            ],
            "application/javascript": [
              "\n",
              "    async function download(id, filename, size) {\n",
              "      if (!google.colab.kernel.accessAllowed) {\n",
              "        return;\n",
              "      }\n",
              "      const div = document.createElement('div');\n",
              "      const label = document.createElement('label');\n",
              "      label.textContent = `Downloading \"${filename}\": `;\n",
              "      div.appendChild(label);\n",
              "      const progress = document.createElement('progress');\n",
              "      progress.max = size;\n",
              "      div.appendChild(progress);\n",
              "      document.body.appendChild(div);\n",
              "\n",
              "      const buffers = [];\n",
              "      let downloaded = 0;\n",
              "\n",
              "      const channel = await google.colab.kernel.comms.open(id);\n",
              "      // Send a message to notify the kernel that we're ready.\n",
              "      channel.send({})\n",
              "\n",
              "      for await (const message of channel.messages) {\n",
              "        // Send a message to notify the kernel that we're ready.\n",
              "        channel.send({})\n",
              "        if (message.buffers) {\n",
              "          for (const buffer of message.buffers) {\n",
              "            buffers.push(buffer);\n",
              "            downloaded += buffer.byteLength;\n",
              "            progress.value = downloaded;\n",
              "          }\n",
              "        }\n",
              "      }\n",
              "      const blob = new Blob(buffers, {type: 'application/binary'});\n",
              "      const a = document.createElement('a');\n",
              "      a.href = window.URL.createObjectURL(blob);\n",
              "      a.download = filename;\n",
              "      div.appendChild(a);\n",
              "      a.click();\n",
              "      div.remove();\n",
              "    }\n",
              "  "
            ]
          },
          "metadata": {}
        },
        {
          "output_type": "display_data",
          "data": {
            "text/plain": [
              "<IPython.core.display.Javascript object>"
            ],
            "application/javascript": [
              "download(\"download_7a4d5bcd-380a-4a28-8289-cae97cf68c4e\", \"feature_extraction_with_data_augmentation.keras\", 85157624)"
            ]
          },
          "metadata": {}
        },
        {
          "output_type": "display_data",
          "data": {
            "text/plain": [
              "<IPython.core.display.Javascript object>"
            ],
            "application/javascript": [
              "\n",
              "    async function download(id, filename, size) {\n",
              "      if (!google.colab.kernel.accessAllowed) {\n",
              "        return;\n",
              "      }\n",
              "      const div = document.createElement('div');\n",
              "      const label = document.createElement('label');\n",
              "      label.textContent = `Downloading \"${filename}\": `;\n",
              "      div.appendChild(label);\n",
              "      const progress = document.createElement('progress');\n",
              "      progress.max = size;\n",
              "      div.appendChild(progress);\n",
              "      document.body.appendChild(div);\n",
              "\n",
              "      const buffers = [];\n",
              "      let downloaded = 0;\n",
              "\n",
              "      const channel = await google.colab.kernel.comms.open(id);\n",
              "      // Send a message to notify the kernel that we're ready.\n",
              "      channel.send({})\n",
              "\n",
              "      for await (const message of channel.messages) {\n",
              "        // Send a message to notify the kernel that we're ready.\n",
              "        channel.send({})\n",
              "        if (message.buffers) {\n",
              "          for (const buffer of message.buffers) {\n",
              "            buffers.push(buffer);\n",
              "            downloaded += buffer.byteLength;\n",
              "            progress.value = downloaded;\n",
              "          }\n",
              "        }\n",
              "      }\n",
              "      const blob = new Blob(buffers, {type: 'application/binary'});\n",
              "      const a = document.createElement('a');\n",
              "      a.href = window.URL.createObjectURL(blob);\n",
              "      a.download = filename;\n",
              "      div.appendChild(a);\n",
              "      a.click();\n",
              "      div.remove();\n",
              "    }\n",
              "  "
            ]
          },
          "metadata": {}
        },
        {
          "output_type": "display_data",
          "data": {
            "text/plain": [
              "<IPython.core.display.Javascript object>"
            ],
            "application/javascript": [
              "download(\"download_bddbec09-84b5-4e32-822f-3e3c1d157f54\", \"fine_tuning.keras\", 113481560)"
            ]
          },
          "metadata": {}
        },
        {
          "output_type": "display_data",
          "data": {
            "text/plain": [
              "<IPython.core.display.Javascript object>"
            ],
            "application/javascript": [
              "\n",
              "    async function download(id, filename, size) {\n",
              "      if (!google.colab.kernel.accessAllowed) {\n",
              "        return;\n",
              "      }\n",
              "      const div = document.createElement('div');\n",
              "      const label = document.createElement('label');\n",
              "      label.textContent = `Downloading \"${filename}\": `;\n",
              "      div.appendChild(label);\n",
              "      const progress = document.createElement('progress');\n",
              "      progress.max = size;\n",
              "      div.appendChild(progress);\n",
              "      document.body.appendChild(div);\n",
              "\n",
              "      const buffers = [];\n",
              "      let downloaded = 0;\n",
              "\n",
              "      const channel = await google.colab.kernel.comms.open(id);\n",
              "      // Send a message to notify the kernel that we're ready.\n",
              "      channel.send({})\n",
              "\n",
              "      for await (const message of channel.messages) {\n",
              "        // Send a message to notify the kernel that we're ready.\n",
              "        channel.send({})\n",
              "        if (message.buffers) {\n",
              "          for (const buffer of message.buffers) {\n",
              "            buffers.push(buffer);\n",
              "            downloaded += buffer.byteLength;\n",
              "            progress.value = downloaded;\n",
              "          }\n",
              "        }\n",
              "      }\n",
              "      const blob = new Blob(buffers, {type: 'application/binary'});\n",
              "      const a = document.createElement('a');\n",
              "      a.href = window.URL.createObjectURL(blob);\n",
              "      a.download = filename;\n",
              "      div.appendChild(a);\n",
              "      a.click();\n",
              "      div.remove();\n",
              "    }\n",
              "  "
            ]
          },
          "metadata": {}
        },
        {
          "output_type": "display_data",
          "data": {
            "text/plain": [
              "<IPython.core.display.Javascript object>"
            ],
            "application/javascript": [
              "download(\"download_5991438c-8c1f-41c2-b59b-08770c6add8e\", \"model.h5\", 113480528)"
            ]
          },
          "metadata": {}
        }
      ]
    }
  ],
  "metadata": {
    "accelerator": "GPU",
    "colab": {
      "provenance": []
    },
    "gpuClass": "standard",
    "kernelspec": {
      "display_name": "Python 3",
      "name": "python3"
    },
    "language_info": {
      "name": "python"
    }
  },
  "nbformat": 4,
  "nbformat_minor": 0
}